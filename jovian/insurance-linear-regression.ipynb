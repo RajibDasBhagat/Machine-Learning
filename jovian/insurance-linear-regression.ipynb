{
 "cells": [
  {
   "cell_type": "code",
   "execution_count": 3,
   "metadata": {
    "executionInfo": {
     "elapsed": 5056,
     "status": "ok",
     "timestamp": 1606958682651,
     "user": {
      "displayName": "Rajib Bhagat",
      "photoUrl": "https://lh3.googleusercontent.com/a-/AOh14Gjk9xRqLB3KIz_Kf-zSFyEvP0rQ0KIWfvO-pWKXNQ=s64",
      "userId": "05375747577393173060"
     },
     "user_tz": -330
    },
    "id": "NbZ-hsN2WdKm"
   },
   "outputs": [],
   "source": [
    "import torch\n",
    "import jovian\n",
    "import torchvision\n",
    "import torch.nn as nn\n",
    "import pandas as pd\n",
    "import matplotlib.pyplot as plt\n",
    "import torch.nn.functional as F\n",
    "from torchvision.datasets.utils import download_url\n",
    "from torch.utils.data import DataLoader, TensorDataset, random_split"
   ]
  },
  {
   "cell_type": "code",
   "execution_count": 5,
   "metadata": {
    "colab": {
     "base_uri": "https://localhost:8080/",
     "height": 103
    },
    "executionInfo": {
     "elapsed": 5605,
     "status": "ok",
     "timestamp": 1606958726115,
     "user": {
      "displayName": "Rajib Bhagat",
      "photoUrl": "https://lh3.googleusercontent.com/a-/AOh14Gjk9xRqLB3KIz_Kf-zSFyEvP0rQ0KIWfvO-pWKXNQ=s64",
      "userId": "05375747577393173060"
     },
     "user_tz": -330
    },
    "id": "h0ftjjvtWdKm",
    "outputId": "f5944b8a-231a-4abc-f097-93d05097ffa1"
   },
   "outputs": [
    {
     "name": "stdout",
     "output_type": "stream",
     "text": [
      "[jovian] Detected Colab notebook...\u001b[0m\n",
      "[jovian] Uploading colab notebook to Jovian...\u001b[0m\n",
      "[jovian] Capturing environment..\u001b[0m\n",
      "[jovian] Committed successfully! https://jovian.ai/rajibdasbhagat/02-insurance-linear-regression\u001b[0m\n"
     ]
    },
    {
     "data": {
      "application/vnd.google.colaboratory.intrinsic+json": {
       "type": "string"
      },
      "text/plain": [
       "'https://jovian.ai/rajibdasbhagat/02-insurance-linear-regression'"
      ]
     },
     "execution_count": 5,
     "metadata": {
      "tags": []
     },
     "output_type": "execute_result"
    }
   ],
   "source": [
    "project_name='02-insurance-linear-regression' # will be used by jovian.commit\n",
    "jovian.commit(project=project_name)"
   ]
  },
  {
   "cell_type": "markdown",
   "metadata": {
    "id": "Z-vxyJEGWdKm"
   },
   "source": [
    "## Step 1: Download and explore the data\n",
    "\n",
    "Let us begin by downloading the data. We'll use the `download_url` function from PyTorch to get the data as a CSV (comma-separated values) file. "
   ]
  },
  {
   "cell_type": "code",
   "execution_count": 6,
   "metadata": {
    "_cell_guid": "79c7e3d0-c299-4dcb-8224-4455121ee9b0",
    "_uuid": "d629ff2d2480ee46fbb7e2d37f6b5fab8052498a",
    "colab": {
     "base_uri": "https://localhost:8080/",
     "height": 66,
     "referenced_widgets": [
      "cad9b0d83f92458bb89cb15237125309",
      "4ad91cf58712494889f972258623db7f",
      "ccb061c58ef94b739132a7f1b016e62e",
      "3033b80c0d414b7fb97066c7eb7ba580",
      "b9981c7e6a2b419eb52f836ed7d1fa21",
      "4cdab92c08c4478683758215dd0f3d17",
      "e158dfee4df8490697b78b6a135444db",
      "1aa2c4329d144657a83ddf43acf270f0"
     ]
    },
    "executionInfo": {
     "elapsed": 3504,
     "status": "ok",
     "timestamp": 1606958732977,
     "user": {
      "displayName": "Rajib Bhagat",
      "photoUrl": "https://lh3.googleusercontent.com/a-/AOh14Gjk9xRqLB3KIz_Kf-zSFyEvP0rQ0KIWfvO-pWKXNQ=s64",
      "userId": "05375747577393173060"
     },
     "user_tz": -330
    },
    "id": "dm32OpSsWdKn",
    "outputId": "0e58cb77-4107-4536-e878-5f9287cfd7a3"
   },
   "outputs": [
    {
     "name": "stdout",
     "output_type": "stream",
     "text": [
      "Downloading https://hub.jovian.ml/wp-content/uploads/2020/05/insurance.csv to ./insurance.csv\n"
     ]
    },
    {
     "data": {
      "application/vnd.jupyter.widget-view+json": {
       "model_id": "cad9b0d83f92458bb89cb15237125309",
       "version_major": 2,
       "version_minor": 0
      },
      "text/plain": [
       "HBox(children=(FloatProgress(value=1.0, bar_style='info', max=1.0), HTML(value='')))"
      ]
     },
     "metadata": {
      "tags": []
     },
     "output_type": "display_data"
    }
   ],
   "source": [
    "DATASET_URL = \"https://hub.jovian.ml/wp-content/uploads/2020/05/insurance.csv\"\n",
    "DATA_FILENAME = \"insurance.csv\"\n",
    "download_url(DATASET_URL, '.')"
   ]
  },
  {
   "cell_type": "markdown",
   "metadata": {
    "id": "F0QK3Gs7WdKs"
   },
   "source": [
    "To load the dataset into memory, we'll use the `read_csv` function from the `pandas` library. The data will be loaded as a Pandas dataframe. See this short tutorial to learn more: https://data36.com/pandas-tutorial-1-basics-reading-data-files-dataframes-data-selection/"
   ]
  },
  {
   "cell_type": "code",
   "execution_count": 7,
   "metadata": {
    "colab": {
     "base_uri": "https://localhost:8080/",
     "height": 204
    },
    "executionInfo": {
     "elapsed": 1134,
     "status": "ok",
     "timestamp": 1606958736840,
     "user": {
      "displayName": "Rajib Bhagat",
      "photoUrl": "https://lh3.googleusercontent.com/a-/AOh14Gjk9xRqLB3KIz_Kf-zSFyEvP0rQ0KIWfvO-pWKXNQ=s64",
      "userId": "05375747577393173060"
     },
     "user_tz": -330
    },
    "id": "I5uQRXzpWdKs",
    "outputId": "697c1464-c439-49f3-e531-2be39c031eda"
   },
   "outputs": [
    {
     "data": {
      "text/html": [
       "<div>\n",
       "<style scoped>\n",
       "    .dataframe tbody tr th:only-of-type {\n",
       "        vertical-align: middle;\n",
       "    }\n",
       "\n",
       "    .dataframe tbody tr th {\n",
       "        vertical-align: top;\n",
       "    }\n",
       "\n",
       "    .dataframe thead th {\n",
       "        text-align: right;\n",
       "    }\n",
       "</style>\n",
       "<table border=\"1\" class=\"dataframe\">\n",
       "  <thead>\n",
       "    <tr style=\"text-align: right;\">\n",
       "      <th></th>\n",
       "      <th>age</th>\n",
       "      <th>sex</th>\n",
       "      <th>bmi</th>\n",
       "      <th>children</th>\n",
       "      <th>smoker</th>\n",
       "      <th>region</th>\n",
       "      <th>charges</th>\n",
       "    </tr>\n",
       "  </thead>\n",
       "  <tbody>\n",
       "    <tr>\n",
       "      <th>0</th>\n",
       "      <td>19</td>\n",
       "      <td>female</td>\n",
       "      <td>27.900</td>\n",
       "      <td>0</td>\n",
       "      <td>yes</td>\n",
       "      <td>southwest</td>\n",
       "      <td>16884.92400</td>\n",
       "    </tr>\n",
       "    <tr>\n",
       "      <th>1</th>\n",
       "      <td>18</td>\n",
       "      <td>male</td>\n",
       "      <td>33.770</td>\n",
       "      <td>1</td>\n",
       "      <td>no</td>\n",
       "      <td>southeast</td>\n",
       "      <td>1725.55230</td>\n",
       "    </tr>\n",
       "    <tr>\n",
       "      <th>2</th>\n",
       "      <td>28</td>\n",
       "      <td>male</td>\n",
       "      <td>33.000</td>\n",
       "      <td>3</td>\n",
       "      <td>no</td>\n",
       "      <td>southeast</td>\n",
       "      <td>4449.46200</td>\n",
       "    </tr>\n",
       "    <tr>\n",
       "      <th>3</th>\n",
       "      <td>33</td>\n",
       "      <td>male</td>\n",
       "      <td>22.705</td>\n",
       "      <td>0</td>\n",
       "      <td>no</td>\n",
       "      <td>northwest</td>\n",
       "      <td>21984.47061</td>\n",
       "    </tr>\n",
       "    <tr>\n",
       "      <th>4</th>\n",
       "      <td>32</td>\n",
       "      <td>male</td>\n",
       "      <td>28.880</td>\n",
       "      <td>0</td>\n",
       "      <td>no</td>\n",
       "      <td>northwest</td>\n",
       "      <td>3866.85520</td>\n",
       "    </tr>\n",
       "  </tbody>\n",
       "</table>\n",
       "</div>"
      ],
      "text/plain": [
       "   age     sex     bmi  children smoker     region      charges\n",
       "0   19  female  27.900         0    yes  southwest  16884.92400\n",
       "1   18    male  33.770         1     no  southeast   1725.55230\n",
       "2   28    male  33.000         3     no  southeast   4449.46200\n",
       "3   33    male  22.705         0     no  northwest  21984.47061\n",
       "4   32    male  28.880         0     no  northwest   3866.85520"
      ]
     },
     "execution_count": 7,
     "metadata": {
      "tags": []
     },
     "output_type": "execute_result"
    }
   ],
   "source": [
    "dataframe_raw = pd.read_csv(DATA_FILENAME)\n",
    "dataframe_raw.head()"
   ]
  },
  {
   "cell_type": "markdown",
   "metadata": {
    "id": "lRm6_GPWWdKt"
   },
   "source": [
    "We're going to do a slight customization of the data, so that you every participant receives a slightly different version of the dataset. Fill in your name below as a string (enter at least 5 characters)"
   ]
  },
  {
   "cell_type": "code",
   "execution_count": 8,
   "metadata": {
    "executionInfo": {
     "elapsed": 1215,
     "status": "ok",
     "timestamp": 1606958741900,
     "user": {
      "displayName": "Rajib Bhagat",
      "photoUrl": "https://lh3.googleusercontent.com/a-/AOh14Gjk9xRqLB3KIz_Kf-zSFyEvP0rQ0KIWfvO-pWKXNQ=s64",
      "userId": "05375747577393173060"
     },
     "user_tz": -330
    },
    "id": "tkJEgzDfWdKt"
   },
   "outputs": [],
   "source": [
    "your_name = \"Rajib\""
   ]
  },
  {
   "cell_type": "markdown",
   "metadata": {
    "id": "UV0-u3gpWdKt"
   },
   "source": [
    "The `customize_dataset` function will customize the dataset slightly using your name as a source of random numbers."
   ]
  },
  {
   "cell_type": "code",
   "execution_count": 9,
   "metadata": {
    "executionInfo": {
     "elapsed": 1211,
     "status": "ok",
     "timestamp": 1606958745662,
     "user": {
      "displayName": "Rajib Bhagat",
      "photoUrl": "https://lh3.googleusercontent.com/a-/AOh14Gjk9xRqLB3KIz_Kf-zSFyEvP0rQ0KIWfvO-pWKXNQ=s64",
      "userId": "05375747577393173060"
     },
     "user_tz": -330
    },
    "id": "mDdy7aHvWdKt"
   },
   "outputs": [],
   "source": [
    "def customize_dataset(dataframe_raw, rand_str):\n",
    "    dataframe = dataframe_raw.copy(deep=True)\n",
    "    # drop some rows\n",
    "    dataframe = dataframe.sample(int(0.95*len(dataframe)), random_state=int(ord(rand_str[0])))\n",
    "    # scale input\n",
    "    dataframe.bmi = dataframe.bmi * ord(rand_str[1])/100.\n",
    "    # scale target\n",
    "    dataframe.charges = dataframe.charges * ord(rand_str[2])/100.\n",
    "    # drop column\n",
    "    if ord(rand_str[3]) % 2 == 1:\n",
    "        dataframe = dataframe.drop(['region'], axis=1)\n",
    "    return dataframe"
   ]
  },
  {
   "cell_type": "code",
   "execution_count": 10,
   "metadata": {
    "colab": {
     "base_uri": "https://localhost:8080/",
     "height": 204
    },
    "executionInfo": {
     "elapsed": 1268,
     "status": "ok",
     "timestamp": 1606958748289,
     "user": {
      "displayName": "Rajib Bhagat",
      "photoUrl": "https://lh3.googleusercontent.com/a-/AOh14Gjk9xRqLB3KIz_Kf-zSFyEvP0rQ0KIWfvO-pWKXNQ=s64",
      "userId": "05375747577393173060"
     },
     "user_tz": -330
    },
    "id": "bM6d5GPJWdKt",
    "outputId": "c5392eda-4d83-411e-f28e-9391d95736e0"
   },
   "outputs": [
    {
     "data": {
      "text/html": [
       "<div>\n",
       "<style scoped>\n",
       "    .dataframe tbody tr th:only-of-type {\n",
       "        vertical-align: middle;\n",
       "    }\n",
       "\n",
       "    .dataframe tbody tr th {\n",
       "        vertical-align: top;\n",
       "    }\n",
       "\n",
       "    .dataframe thead th {\n",
       "        text-align: right;\n",
       "    }\n",
       "</style>\n",
       "<table border=\"1\" class=\"dataframe\">\n",
       "  <thead>\n",
       "    <tr style=\"text-align: right;\">\n",
       "      <th></th>\n",
       "      <th>age</th>\n",
       "      <th>sex</th>\n",
       "      <th>bmi</th>\n",
       "      <th>children</th>\n",
       "      <th>smoker</th>\n",
       "      <th>charges</th>\n",
       "    </tr>\n",
       "  </thead>\n",
       "  <tbody>\n",
       "    <tr>\n",
       "      <th>457</th>\n",
       "      <td>57</td>\n",
       "      <td>female</td>\n",
       "      <td>29.58015</td>\n",
       "      <td>0</td>\n",
       "      <td>no</td>\n",
       "      <td>12551.221553</td>\n",
       "    </tr>\n",
       "    <tr>\n",
       "      <th>1050</th>\n",
       "      <td>44</td>\n",
       "      <td>female</td>\n",
       "      <td>35.84635</td>\n",
       "      <td>1</td>\n",
       "      <td>no</td>\n",
       "      <td>8504.523577</td>\n",
       "    </tr>\n",
       "    <tr>\n",
       "      <th>56</th>\n",
       "      <td>58</td>\n",
       "      <td>female</td>\n",
       "      <td>30.87025</td>\n",
       "      <td>2</td>\n",
       "      <td>no</td>\n",
       "      <td>14423.810875</td>\n",
       "    </tr>\n",
       "    <tr>\n",
       "      <th>311</th>\n",
       "      <td>19</td>\n",
       "      <td>female</td>\n",
       "      <td>23.95900</td>\n",
       "      <td>0</td>\n",
       "      <td>no</td>\n",
       "      <td>1841.618560</td>\n",
       "    </tr>\n",
       "    <tr>\n",
       "      <th>1288</th>\n",
       "      <td>20</td>\n",
       "      <td>male</td>\n",
       "      <td>38.21800</td>\n",
       "      <td>2</td>\n",
       "      <td>yes</td>\n",
       "      <td>40645.239960</td>\n",
       "    </tr>\n",
       "  </tbody>\n",
       "</table>\n",
       "</div>"
      ],
      "text/plain": [
       "      age     sex       bmi  children smoker       charges\n",
       "457    57  female  29.58015         0     no  12551.221553\n",
       "1050   44  female  35.84635         1     no   8504.523577\n",
       "56     58  female  30.87025         2     no  14423.810875\n",
       "311    19  female  23.95900         0     no   1841.618560\n",
       "1288   20    male  38.21800         2    yes  40645.239960"
      ]
     },
     "execution_count": 10,
     "metadata": {
      "tags": []
     },
     "output_type": "execute_result"
    }
   ],
   "source": [
    "dataframe = customize_dataset(dataframe_raw, your_name)\n",
    "dataframe.head()"
   ]
  },
  {
   "cell_type": "markdown",
   "metadata": {
    "id": "1VWExHuYWdKt"
   },
   "source": [
    "Let us answer some basic questions about the dataset. \n",
    "\n",
    "\n",
    "**Q: How many rows does the dataset have?**"
   ]
  },
  {
   "cell_type": "code",
   "execution_count": 13,
   "metadata": {
    "colab": {
     "base_uri": "https://localhost:8080/"
    },
    "executionInfo": {
     "elapsed": 1161,
     "status": "ok",
     "timestamp": 1606958835265,
     "user": {
      "displayName": "Rajib Bhagat",
      "photoUrl": "https://lh3.googleusercontent.com/a-/AOh14Gjk9xRqLB3KIz_Kf-zSFyEvP0rQ0KIWfvO-pWKXNQ=s64",
      "userId": "05375747577393173060"
     },
     "user_tz": -330
    },
    "id": "2H5nzlxgWdKt",
    "outputId": "fc250f2c-ccbf-4d91-babc-4d8bb815dbe5"
   },
   "outputs": [
    {
     "name": "stdout",
     "output_type": "stream",
     "text": [
      "The dataset contains 1271 rows.\n"
     ]
    }
   ],
   "source": [
    "num_rows = dataframe.shape[0]\n",
    "print(\"The dataset contains {} rows.\".format(num_rows))"
   ]
  },
  {
   "cell_type": "markdown",
   "metadata": {
    "id": "ctSN2sRSWdKu"
   },
   "source": [
    "**Q: How many columns does the dataset have**"
   ]
  },
  {
   "cell_type": "code",
   "execution_count": 14,
   "metadata": {
    "colab": {
     "base_uri": "https://localhost:8080/"
    },
    "executionInfo": {
     "elapsed": 1172,
     "status": "ok",
     "timestamp": 1606958868802,
     "user": {
      "displayName": "Rajib Bhagat",
      "photoUrl": "https://lh3.googleusercontent.com/a-/AOh14Gjk9xRqLB3KIz_Kf-zSFyEvP0rQ0KIWfvO-pWKXNQ=s64",
      "userId": "05375747577393173060"
     },
     "user_tz": -330
    },
    "id": "Je9UBJLPWdKu",
    "outputId": "530619af-d45a-446a-e96d-9c1f2e710d6b"
   },
   "outputs": [
    {
     "name": "stdout",
     "output_type": "stream",
     "text": [
      "The dataset contains 6 columns.\n"
     ]
    }
   ],
   "source": [
    "num_cols = dataframe.shape[1]\n",
    "print(\"The dataset contains {} columns.\".format(num_cols))"
   ]
  },
  {
   "cell_type": "markdown",
   "metadata": {
    "id": "Kl9uvtecWdKu"
   },
   "source": [
    "**Q: What are the column titles of the input variables?**"
   ]
  },
  {
   "cell_type": "code",
   "execution_count": 17,
   "metadata": {
    "colab": {
     "base_uri": "https://localhost:8080/"
    },
    "executionInfo": {
     "elapsed": 1372,
     "status": "ok",
     "timestamp": 1606959021959,
     "user": {
      "displayName": "Rajib Bhagat",
      "photoUrl": "https://lh3.googleusercontent.com/a-/AOh14Gjk9xRqLB3KIz_Kf-zSFyEvP0rQ0KIWfvO-pWKXNQ=s64",
      "userId": "05375747577393173060"
     },
     "user_tz": -330
    },
    "id": "AKOKsqr9WdKu",
    "outputId": "331f9fd7-d6b4-4b43-ecdd-347c64e09345"
   },
   "outputs": [
    {
     "name": "stdout",
     "output_type": "stream",
     "text": [
      "The columns titles of input variables are: \n",
      "age\n",
      "sex\n",
      "bmi\n",
      "children\n",
      "smoker\n"
     ]
    }
   ],
   "source": [
    "input_cols = list(dataframe.columns[:-1])\n",
    "print(\"The columns titles of input variables are: \")\n",
    "for cols in input_cols:\n",
    "     print(cols) "
   ]
  },
  {
   "cell_type": "markdown",
   "metadata": {
    "id": "IJL8UNPRWdKu"
   },
   "source": [
    "**Q: Which of the input columns are non-numeric or categorial variables ?**\n",
    "\n",
    "Hint: `sex` is one of them. List the columns that are not numbers."
   ]
  },
  {
   "cell_type": "code",
   "execution_count": 19,
   "metadata": {
    "colab": {
     "base_uri": "https://localhost:8080/"
    },
    "executionInfo": {
     "elapsed": 1167,
     "status": "ok",
     "timestamp": 1606959101593,
     "user": {
      "displayName": "Rajib Bhagat",
      "photoUrl": "https://lh3.googleusercontent.com/a-/AOh14Gjk9xRqLB3KIz_Kf-zSFyEvP0rQ0KIWfvO-pWKXNQ=s64",
      "userId": "05375747577393173060"
     },
     "user_tz": -330
    },
    "id": "tJCiC8SEWdKu",
    "outputId": "ea7411d3-1cfd-41b8-c756-77734d3d391e"
   },
   "outputs": [
    {
     "name": "stdout",
     "output_type": "stream",
     "text": [
      "The input columns which are non-numeric or categorial variables are: \n",
      "sex\n",
      "smoker\n"
     ]
    }
   ],
   "source": [
    "categorical_cols = list(dataframe.select_dtypes(include=['object']).columns)\n",
    "print(\"The input columns which are non-numeric or categorial variables are: \")\n",
    "for cols in categorical_cols:\n",
    "     print(cols) "
   ]
  },
  {
   "cell_type": "markdown",
   "metadata": {
    "id": "oeEURg1eWdKu"
   },
   "source": [
    "**Q: What are the column titles of output/target variable(s)?**"
   ]
  },
  {
   "cell_type": "code",
   "execution_count": 22,
   "metadata": {
    "colab": {
     "base_uri": "https://localhost:8080/"
    },
    "executionInfo": {
     "elapsed": 1176,
     "status": "ok",
     "timestamp": 1606959180395,
     "user": {
      "displayName": "Rajib Bhagat",
      "photoUrl": "https://lh3.googleusercontent.com/a-/AOh14Gjk9xRqLB3KIz_Kf-zSFyEvP0rQ0KIWfvO-pWKXNQ=s64",
      "userId": "05375747577393173060"
     },
     "user_tz": -330
    },
    "id": "NtZQ92K6WdKu",
    "outputId": "753f1d0e-0e71-4fc0-e098-b900f601a80e"
   },
   "outputs": [
    {
     "name": "stdout",
     "output_type": "stream",
     "text": [
      "The column titles of output/target variable(s) are: \n",
      "charges\n"
     ]
    }
   ],
   "source": [
    "output_cols = list(dataframe.columns[-1:])\n",
    "print(\"The column titles of output/target variable(s) are: \")\n",
    "for cols in output_cols:\n",
    "     print(cols) "
   ]
  },
  {
   "cell_type": "markdown",
   "metadata": {
    "id": "PRq8xqTuWdKv"
   },
   "source": [
    "**Q: (Optional) What is the minimum, maximum and average value of the `charges` column? Can you show the distribution of values in a graph?**\n",
    "Use this data visualization cheatsheet for referece: https://jovian.ml/aakashns/dataviz-cheatsheet"
   ]
  },
  {
   "cell_type": "code",
   "execution_count": 25,
   "metadata": {
    "colab": {
     "base_uri": "https://localhost:8080/"
    },
    "executionInfo": {
     "elapsed": 1074,
     "status": "ok",
     "timestamp": 1606959324429,
     "user": {
      "displayName": "Rajib Bhagat",
      "photoUrl": "https://lh3.googleusercontent.com/a-/AOh14Gjk9xRqLB3KIz_Kf-zSFyEvP0rQ0KIWfvO-pWKXNQ=s64",
      "userId": "05375747577393173060"
     },
     "user_tz": -330
    },
    "id": "C2OE5YdhWdKv",
    "outputId": "44315a02-ed40-4305-e07e-3a931ee0f83b"
   },
   "outputs": [
    {
     "name": "stdout",
     "output_type": "stream",
     "text": [
      "The minimum, maximum, average value of the column charges are 1189.186, 67596.654 and 13908.244 respectively.\n"
     ]
    }
   ],
   "source": [
    "# Write your answer here\n",
    "\n",
    "minimum = round(dataframe.charges.min(),3)\n",
    "maximum = round(dataframe.charges.max(),3)\n",
    "average = round(dataframe.charges.mean(),3)\n",
    "\n",
    "print(\"The minimum, maximum, average value of the column charges are {}, {} and {} respectively.\" . format(minimum,maximum,average))"
   ]
  },
  {
   "cell_type": "code",
   "execution_count": 29,
   "metadata": {
    "colab": {
     "base_uri": "https://localhost:8080/",
     "height": 298
    },
    "executionInfo": {
     "elapsed": 1182,
     "status": "ok",
     "timestamp": 1606959437446,
     "user": {
      "displayName": "Rajib Bhagat",
      "photoUrl": "https://lh3.googleusercontent.com/a-/AOh14Gjk9xRqLB3KIz_Kf-zSFyEvP0rQ0KIWfvO-pWKXNQ=s64",
      "userId": "05375747577393173060"
     },
     "user_tz": -330
    },
    "id": "Ql3Jdr5Rhl9s",
    "outputId": "2e1fc43b-61d4-4f34-a68b-ba11803672b6"
   },
   "outputs": [
    {
     "data": {
      "text/plain": [
       "<matplotlib.legend.Legend at 0x7fe93fcc35c0>"
      ]
     },
     "execution_count": 29,
     "metadata": {
      "tags": []
     },
     "output_type": "execute_result"
    },
    {
     "data": {
      "image/png": "[encoded data removed]",
      "text/plain": [
       "<Figure size 720x288 with 1 Axes>"
      ]
     },
     "metadata": {
      "needs_background": "light",
      "tags": []
     },
     "output_type": "display_data"
    }
   ],
   "source": [
    "#statistical details of the dataframe.charges\n",
    "desc=dataframe.charges.describe()\n",
    "\n",
    "#plotting the statistical details\n",
    "desc.plot.barh(figsize=(10,4))\n",
    "plt.title(\"Statistical Details \\\"Charges\\\"\")\n",
    "plt.legend(loc='center right', frameon=True)"
   ]
  },
  {
   "cell_type": "markdown",
   "metadata": {
    "id": "XM0Fq2tQWdKx"
   },
   "source": [
    "## Step 2: Prepare the dataset for training\n",
    "\n",
    "We need to convert the data from the Pandas dataframe into a PyTorch tensors for training. To do this, the first step is to convert it numpy arrays. If you've filled out `input_cols`, `categorial_cols` and `output_cols` correctly, this following function will perform the conversion to numpy arrays."
   ]
  },
  {
   "cell_type": "code",
   "execution_count": 31,
   "metadata": {
    "executionInfo": {
     "elapsed": 1216,
     "status": "ok",
     "timestamp": 1606959497940,
     "user": {
      "displayName": "Rajib Bhagat",
      "photoUrl": "https://lh3.googleusercontent.com/a-/AOh14Gjk9xRqLB3KIz_Kf-zSFyEvP0rQ0KIWfvO-pWKXNQ=s64",
      "userId": "05375747577393173060"
     },
     "user_tz": -330
    },
    "id": "x6MSwJLfWdKx"
   },
   "outputs": [],
   "source": [
    "def dataframe_to_arrays(dataframe):\n",
    "    # Make a copy of the original dataframe\n",
    "    dataframe1 = dataframe.copy(deep=True)\n",
    "    # Convert non-numeric categorical columns to numbers\n",
    "    for col in categorical_cols:\n",
    "        dataframe1[col] = dataframe1[col].astype('category').cat.codes\n",
    "    # Extract input & outupts as numpy arrays\n",
    "    inputs_array = dataframe1[input_cols].to_numpy()\n",
    "    targets_array = dataframe1[output_cols].to_numpy()\n",
    "    return inputs_array, targets_array"
   ]
  },
  {
   "cell_type": "markdown",
   "metadata": {
    "id": "CJ7YUYrSWdKx"
   },
   "source": [
    "Read through the [Pandas documentation](https://pandas.pydata.org/pandas-docs/stable/user_guide/categorical.html) to understand how we're converting categorical variables into numbers."
   ]
  },
  {
   "cell_type": "code",
   "execution_count": 33,
   "metadata": {
    "colab": {
     "base_uri": "https://localhost:8080/"
    },
    "executionInfo": {
     "elapsed": 1308,
     "status": "ok",
     "timestamp": 1606959520742,
     "user": {
      "displayName": "Rajib Bhagat",
      "photoUrl": "https://lh3.googleusercontent.com/a-/AOh14Gjk9xRqLB3KIz_Kf-zSFyEvP0rQ0KIWfvO-pWKXNQ=s64",
      "userId": "05375747577393173060"
     },
     "user_tz": -330
    },
    "id": "vM5RCYP4WdKx",
    "outputId": "4c11dd7d-594e-4fb1-ee86-fc03bf119c14"
   },
   "outputs": [
    {
     "data": {
      "text/plain": [
       "(array([[57.     ,  0.     , 29.58015,  0.     ,  0.     ],\n",
       "        [44.     ,  0.     , 35.84635,  1.     ,  0.     ],\n",
       "        [58.     ,  0.     , 30.87025,  2.     ,  0.     ],\n",
       "        ...,\n",
       "        [59.     ,  0.     , 33.756  ,  2.     ,  0.     ],\n",
       "        [41.     ,  1.     , 27.936  ,  1.     ,  0.     ],\n",
       "        [36.     ,  0.     , 29.1194 ,  0.     ,  0.     ]]),\n",
       " array([[12551.221553 ],\n",
       "        [ 8504.523577 ],\n",
       "        [14423.810875 ],\n",
       "        ...,\n",
       "        [39125.2445118],\n",
       "        [ 6659.1691   ],\n",
       "        [ 5588.506348 ]]))"
      ]
     },
     "execution_count": 33,
     "metadata": {
      "tags": []
     },
     "output_type": "execute_result"
    }
   ],
   "source": [
    "inputs_array, targets_array = dataframe_to_arrays(dataframe)\n",
    "inputs_array, targets_array"
   ]
  },
  {
   "cell_type": "markdown",
   "metadata": {
    "id": "sKrOHSkmWdKx"
   },
   "source": [
    "**Q: Convert the numpy arrays `inputs_array` and `targets_array` into PyTorch tensors. Make sure that the data type is `torch.float32`.**"
   ]
  },
  {
   "cell_type": "code",
   "execution_count": 34,
   "metadata": {
    "executionInfo": {
     "elapsed": 1163,
     "status": "ok",
     "timestamp": 1606959524661,
     "user": {
      "displayName": "Rajib Bhagat",
      "photoUrl": "https://lh3.googleusercontent.com/a-/AOh14Gjk9xRqLB3KIz_Kf-zSFyEvP0rQ0KIWfvO-pWKXNQ=s64",
      "userId": "05375747577393173060"
     },
     "user_tz": -330
    },
    "id": "QeXfanvJWdKy"
   },
   "outputs": [],
   "source": [
    "inputs  = torch.tensor(inputs_array).type(torch.float32)\n",
    "targets = torch.tensor(targets_array).type(torch.float32)"
   ]
  },
  {
   "cell_type": "code",
   "execution_count": 35,
   "metadata": {
    "colab": {
     "base_uri": "https://localhost:8080/"
    },
    "executionInfo": {
     "elapsed": 1166,
     "status": "ok",
     "timestamp": 1606959529550,
     "user": {
      "displayName": "Rajib Bhagat",
      "photoUrl": "https://lh3.googleusercontent.com/a-/AOh14Gjk9xRqLB3KIz_Kf-zSFyEvP0rQ0KIWfvO-pWKXNQ=s64",
      "userId": "05375747577393173060"
     },
     "user_tz": -330
    },
    "id": "7m9sjOq2WdKy",
    "outputId": "4c74303f-cf2e-4c71-9dee-67aa672ed3d2"
   },
   "outputs": [
    {
     "data": {
      "text/plain": [
       "(torch.float32, torch.float32)"
      ]
     },
     "execution_count": 35,
     "metadata": {
      "tags": []
     },
     "output_type": "execute_result"
    }
   ],
   "source": [
    "inputs.dtype, targets.dtype"
   ]
  },
  {
   "cell_type": "markdown",
   "metadata": {
    "id": "ucHpx-7iWdKz"
   },
   "source": [
    "Next, we need to create PyTorch datasets & data loaders for training & validation. We'll start by creating a `TensorDataset`."
   ]
  },
  {
   "cell_type": "code",
   "execution_count": 36,
   "metadata": {
    "executionInfo": {
     "elapsed": 1325,
     "status": "ok",
     "timestamp": 1606959541315,
     "user": {
      "displayName": "Rajib Bhagat",
      "photoUrl": "https://lh3.googleusercontent.com/a-/AOh14Gjk9xRqLB3KIz_Kf-zSFyEvP0rQ0KIWfvO-pWKXNQ=s64",
      "userId": "05375747577393173060"
     },
     "user_tz": -330
    },
    "id": "_JyTJ0vMWdKz"
   },
   "outputs": [],
   "source": [
    "dataset = TensorDataset(inputs, targets)"
   ]
  },
  {
   "cell_type": "markdown",
   "metadata": {
    "id": "BuG1p35cWdKz"
   },
   "source": [
    "**Q: Pick a number between `0.1` and `0.2` to determine the fraction of data that will be used for creating the validation set. Then use `random_split` to create training & validation datasets.**"
   ]
  },
  {
   "cell_type": "code",
   "execution_count": 94,
   "metadata": {
    "executionInfo": {
     "elapsed": 1181,
     "status": "ok",
     "timestamp": 1606960414178,
     "user": {
      "displayName": "Rajib Bhagat",
      "photoUrl": "https://lh3.googleusercontent.com/a-/AOh14Gjk9xRqLB3KIz_Kf-zSFyEvP0rQ0KIWfvO-pWKXNQ=s64",
      "userId": "05375747577393173060"
     },
     "user_tz": -330
    },
    "id": "1K5UPKHEWdKz"
   },
   "outputs": [],
   "source": [
    "val_percent = 0.1 # between 0.1 and 0.2\n",
    "val_size = int(num_rows * val_percent)\n",
    "train_size = num_rows - val_size\n",
    "\n",
    "train_ds, val_ds = random_split(dataset, (train_size,val_size)) # Use the random_split function to split dataset into 2 parts of the desired length"
   ]
  },
  {
   "cell_type": "markdown",
   "metadata": {
    "id": "wsZPMukeWdKz"
   },
   "source": [
    "Finally, we can create data loaders for training & validation.\n",
    "\n",
    "**Q: Pick a batch size for the data loader.**"
   ]
  },
  {
   "cell_type": "code",
   "execution_count": 95,
   "metadata": {
    "executionInfo": {
     "elapsed": 1473,
     "status": "ok",
     "timestamp": 1606960418297,
     "user": {
      "displayName": "Rajib Bhagat",
      "photoUrl": "https://lh3.googleusercontent.com/a-/AOh14Gjk9xRqLB3KIz_Kf-zSFyEvP0rQ0KIWfvO-pWKXNQ=s64",
      "userId": "05375747577393173060"
     },
     "user_tz": -330
    },
    "id": "sNUsL4hKWdK0"
   },
   "outputs": [],
   "source": [
    "batch_size = 8"
   ]
  },
  {
   "cell_type": "code",
   "execution_count": 96,
   "metadata": {
    "executionInfo": {
     "elapsed": 936,
     "status": "ok",
     "timestamp": 1606960418963,
     "user": {
      "displayName": "Rajib Bhagat",
      "photoUrl": "https://lh3.googleusercontent.com/a-/AOh14Gjk9xRqLB3KIz_Kf-zSFyEvP0rQ0KIWfvO-pWKXNQ=s64",
      "userId": "05375747577393173060"
     },
     "user_tz": -330
    },
    "id": "PET3BNTOWdK0"
   },
   "outputs": [],
   "source": [
    "train_loader = DataLoader(train_ds, batch_size, shuffle=True)\n",
    "val_loader = DataLoader(val_ds, batch_size)"
   ]
  },
  {
   "cell_type": "markdown",
   "metadata": {
    "id": "V4OspYsfWdK0"
   },
   "source": [
    "Let's look at a batch of data to verify everything is working fine so far."
   ]
  },
  {
   "cell_type": "code",
   "execution_count": 97,
   "metadata": {
    "colab": {
     "base_uri": "https://localhost:8080/"
    },
    "executionInfo": {
     "elapsed": 1147,
     "status": "ok",
     "timestamp": 1606960421608,
     "user": {
      "displayName": "Rajib Bhagat",
      "photoUrl": "https://lh3.googleusercontent.com/a-/AOh14Gjk9xRqLB3KIz_Kf-zSFyEvP0rQ0KIWfvO-pWKXNQ=s64",
      "userId": "05375747577393173060"
     },
     "user_tz": -330
    },
    "id": "Nf2KLxucWdK0",
    "outputId": "1055e8da-1820-448f-d5b0-ef8b967b3d88"
   },
   "outputs": [
    {
     "name": "stdout",
     "output_type": "stream",
     "text": [
      "inputs: tensor([[19.0000,  1.0000, 33.8530,  0.0000,  1.0000],\n",
      "        [54.0000,  1.0000, 29.1194,  0.0000,  0.0000],\n",
      "        [35.0000,  0.0000, 42.0398,  2.0000,  0.0000],\n",
      "        [37.0000,  0.0000, 33.7560,  2.0000,  1.0000],\n",
      "        [54.0000,  0.0000, 29.8760,  3.0000,  0.0000],\n",
      "        [24.0000,  1.0000, 22.9454,  0.0000,  0.0000],\n",
      "        [52.0000,  0.0000, 36.2780,  0.0000,  0.0000],\n",
      "        [18.0000,  0.0000, 32.8636,  0.0000,  0.0000]])\n",
      "targets: tensor([[36918.3750],\n",
      "        [25945.0664],\n",
      "        [ 6197.7324],\n",
      "        [42226.7109],\n",
      "        [12831.6396],\n",
      "        [ 2494.1465],\n",
      "        [10212.6104],\n",
      "        [12171.5928]])\n"
     ]
    }
   ],
   "source": [
    "for xb, yb in train_loader:\n",
    "    print(\"inputs:\", xb)\n",
    "    print(\"targets:\", yb)\n",
    "    break"
   ]
  },
  {
   "cell_type": "markdown",
   "metadata": {
    "id": "fMcbPqMHWdK1"
   },
   "source": [
    "## Step 3: Create a Linear Regression Model\n",
    "\n",
    "Our model itself is a fairly straightforward linear regression (we'll build more complex models in the next assignment). \n"
   ]
  },
  {
   "cell_type": "code",
   "execution_count": 98,
   "metadata": {
    "colab": {
     "base_uri": "https://localhost:8080/"
    },
    "executionInfo": {
     "elapsed": 1077,
     "status": "ok",
     "timestamp": 1606960425050,
     "user": {
      "displayName": "Rajib Bhagat",
      "photoUrl": "https://lh3.googleusercontent.com/a-/AOh14Gjk9xRqLB3KIz_Kf-zSFyEvP0rQ0KIWfvO-pWKXNQ=s64",
      "userId": "05375747577393173060"
     },
     "user_tz": -330
    },
    "id": "yD1uhcf_WdK1",
    "outputId": "756ba7bc-3297-4faa-8b1a-a4aa420a51d0"
   },
   "outputs": [
    {
     "data": {
      "text/plain": [
       "(5, 1)"
      ]
     },
     "execution_count": 98,
     "metadata": {
      "tags": []
     },
     "output_type": "execute_result"
    }
   ],
   "source": [
    "input_size = len(input_cols)\n",
    "output_size = len(output_cols)\n",
    "\n",
    "input_size, output_size"
   ]
  },
  {
   "cell_type": "markdown",
   "metadata": {
    "id": "ktBKqhqgWdK1"
   },
   "source": [
    "**Q: Complete the class definition below by filling out the constructor (`__init__`), `forward`, `training_step` and `validation_step` methods.**\n",
    "\n",
    "Hint: Think carefully about picking a good loss fuction (it's not cross entropy). Maybe try 2-3 of them and see which one works best. See https://pytorch.org/docs/stable/nn.functional.html#loss-functions"
   ]
  },
  {
   "cell_type": "code",
   "execution_count": 99,
   "metadata": {
    "executionInfo": {
     "elapsed": 1684,
     "status": "ok",
     "timestamp": 1606960429572,
     "user": {
      "displayName": "Rajib Bhagat",
      "photoUrl": "https://lh3.googleusercontent.com/a-/AOh14Gjk9xRqLB3KIz_Kf-zSFyEvP0rQ0KIWfvO-pWKXNQ=s64",
      "userId": "05375747577393173060"
     },
     "user_tz": -330
    },
    "id": "p6k1tSoFWdK2"
   },
   "outputs": [],
   "source": [
    "class InsuranceModel(nn.Module):\n",
    "    def __init__(self):\n",
    "        super().__init__()\n",
    "        self.linear = nn.Linear(input_size, output_size)                 # fill this (hint: use input_size & output_size defined above)\n",
    "        \n",
    "    def forward(self, xb):\n",
    "        out = self.linear(xb)                          # fill this\n",
    "        return out\n",
    "    \n",
    "    def training_step(self, batch):\n",
    "        inputs, targets = batch \n",
    "        # Generate predictions\n",
    "        out = self(inputs)          \n",
    "        # Calcuate loss\n",
    "        loss = nn.functional.l1_loss(out, targets)                         # fill this\n",
    "        return loss\n",
    "    \n",
    "    def validation_step(self, batch):\n",
    "        inputs, targets = batch\n",
    "        # Generate predictions\n",
    "        out = self(inputs)\n",
    "        # Calculate loss\n",
    "        loss = nn.functional.l1_loss(out, targets)                          # fill this    \n",
    "        return {'val_loss': loss.detach()}\n",
    "        \n",
    "    def validation_epoch_end(self, outputs):\n",
    "        batch_losses = [x['val_loss'] for x in outputs]\n",
    "        epoch_loss = torch.stack(batch_losses).mean()   # Combine losses\n",
    "        return {'val_loss': epoch_loss.item()}\n",
    "    \n",
    "    def epoch_end(self, epoch, result, num_epochs):\n",
    "        # Print result every 20th epoch\n",
    "        if (epoch+1) % 20 == 0 or epoch == num_epochs-1:\n",
    "            print(\"Epoch [{}], val_loss: {:.4f}\".format(epoch+1, result['val_loss']))"
   ]
  },
  {
   "cell_type": "markdown",
   "metadata": {
    "id": "YD6D8U41WdK3"
   },
   "source": [
    "Let us create a model using the `InsuranceModel` class. You may need to come back later and re-run the next cell to reinitialize the model, in case the loss becomes `nan` or `infinity`."
   ]
  },
  {
   "cell_type": "code",
   "execution_count": 100,
   "metadata": {
    "colab": {
     "base_uri": "https://localhost:8080/"
    },
    "executionInfo": {
     "elapsed": 1330,
     "status": "ok",
     "timestamp": 1606960431976,
     "user": {
      "displayName": "Rajib Bhagat",
      "photoUrl": "https://lh3.googleusercontent.com/a-/AOh14Gjk9xRqLB3KIz_Kf-zSFyEvP0rQ0KIWfvO-pWKXNQ=s64",
      "userId": "05375747577393173060"
     },
     "user_tz": -330
    },
    "id": "4XBIlQZrWdK4",
    "outputId": "ac652665-109b-43c2-ddd0-61d6bb33580a"
   },
   "outputs": [
    {
     "data": {
      "text/plain": [
       "InsuranceModel(\n",
       "  (linear): Linear(in_features=5, out_features=1, bias=True)\n",
       ")"
      ]
     },
     "execution_count": 100,
     "metadata": {
      "tags": []
     },
     "output_type": "execute_result"
    }
   ],
   "source": [
    "model = InsuranceModel()\n",
    "model"
   ]
  },
  {
   "cell_type": "markdown",
   "metadata": {
    "id": "QnYST1b8WdK4"
   },
   "source": [
    "Let's check out the weights and biases of the model using `model.parameters`."
   ]
  },
  {
   "cell_type": "code",
   "execution_count": 102,
   "metadata": {
    "colab": {
     "base_uri": "https://localhost:8080/"
    },
    "executionInfo": {
     "elapsed": 1208,
     "status": "ok",
     "timestamp": 1606960469415,
     "user": {
      "displayName": "Rajib Bhagat",
      "photoUrl": "https://lh3.googleusercontent.com/a-/AOh14Gjk9xRqLB3KIz_Kf-zSFyEvP0rQ0KIWfvO-pWKXNQ=s64",
      "userId": "05375747577393173060"
     },
     "user_tz": -330
    },
    "id": "1k5ytYe5WdK4",
    "outputId": "7b1d7a8f-a19a-42c1-fcff-d4467460d460"
   },
   "outputs": [
    {
     "data": {
      "text/plain": [
       "[Parameter containing:\n",
       " tensor([[-0.3136, -0.3284, -0.1240, -0.0889,  0.2360]], requires_grad=True),\n",
       " Parameter containing:\n",
       " tensor([-0.4470], requires_grad=True)]"
      ]
     },
     "execution_count": 102,
     "metadata": {
      "tags": []
     },
     "output_type": "execute_result"
    }
   ],
   "source": [
    "list(model.parameters())"
   ]
  },
  {
   "cell_type": "markdown",
   "metadata": {
    "id": "a6fzGRXYWdK4"
   },
   "source": [
    "## Step 4: Train the model to fit the data\n",
    "\n",
    "To train our model, we'll use the same `fit` function explained in the lecture. That's the benefit of defining a generic training loop - you can use it for any problem."
   ]
  },
  {
   "cell_type": "code",
   "execution_count": 103,
   "metadata": {
    "executionInfo": {
     "elapsed": 845,
     "status": "ok",
     "timestamp": 1606960471282,
     "user": {
      "displayName": "Rajib Bhagat",
      "photoUrl": "https://lh3.googleusercontent.com/a-/AOh14Gjk9xRqLB3KIz_Kf-zSFyEvP0rQ0KIWfvO-pWKXNQ=s64",
      "userId": "05375747577393173060"
     },
     "user_tz": -330
    },
    "id": "0v-AnLnTWdK5"
   },
   "outputs": [],
   "source": [
    "def evaluate(model, val_loader):\n",
    "    outputs = [model.validation_step(batch) for batch in val_loader]\n",
    "    return model.validation_epoch_end(outputs)\n",
    "\n",
    "def fit(epochs, lr, model, train_loader, val_loader, opt_func=torch.optim.SGD):\n",
    "    history = []\n",
    "    optimizer = opt_func(model.parameters(), lr)\n",
    "    for epoch in range(epochs):\n",
    "        # Training Phase \n",
    "        for batch in train_loader:\n",
    "            loss = model.training_step(batch)\n",
    "            loss.backward()\n",
    "            optimizer.step()\n",
    "            optimizer.zero_grad()\n",
    "        # Validation phase\n",
    "        result = evaluate(model, val_loader)\n",
    "        model.epoch_end(epoch, result, epochs)\n",
    "        history.append(result)\n",
    "    return history"
   ]
  },
  {
   "cell_type": "markdown",
   "metadata": {
    "id": "sPi4rA5yWdK5"
   },
   "source": [
    "**Q: Use the `evaluate` function to calculate the loss on the validation set before training.**"
   ]
  },
  {
   "cell_type": "code",
   "execution_count": 104,
   "metadata": {
    "colab": {
     "base_uri": "https://localhost:8080/"
    },
    "executionInfo": {
     "elapsed": 826,
     "status": "ok",
     "timestamp": 1606960473464,
     "user": {
      "displayName": "Rajib Bhagat",
      "photoUrl": "https://lh3.googleusercontent.com/a-/AOh14Gjk9xRqLB3KIz_Kf-zSFyEvP0rQ0KIWfvO-pWKXNQ=s64",
      "userId": "05375747577393173060"
     },
     "user_tz": -330
    },
    "id": "fUwl3ubGWdK5",
    "outputId": "b2e05917-cfca-45d5-a0ba-b73d3a48ef8a"
   },
   "outputs": [
    {
     "name": "stdout",
     "output_type": "stream",
     "text": [
      "{'val_loss': 13584.779296875}\n"
     ]
    }
   ],
   "source": [
    "result = evaluate(model, val_loader) # Use the the evaluate function\n",
    "print(result)"
   ]
  },
  {
   "cell_type": "markdown",
   "metadata": {
    "id": "YYTTVGQaWdK5"
   },
   "source": [
    "\n",
    "We are now ready to train the model. You may need to run the training loop many times, for different number of epochs and with different learning rates, to get a good result. Also, if your loss becomes too large (or `nan`), you may have to re-initialize the model by running the cell `model = InsuranceModel()`. Experiment with this for a while, and try to get to as low a loss as possible."
   ]
  },
  {
   "cell_type": "markdown",
   "metadata": {
    "id": "L5yqqFRuWdK6"
   },
   "source": [
    "**Q: Train the model 4-5 times with different learning rates & for different number of epochs.**\n",
    "\n",
    "Hint: Vary learning rates by orders of 10 (e.g. `1e-2`, `1e-3`, `1e-4`, `1e-5`, `1e-6`) to figure out what works."
   ]
  },
  {
   "cell_type": "code",
   "execution_count": 105,
   "metadata": {
    "colab": {
     "base_uri": "https://localhost:8080/"
    },
    "executionInfo": {
     "elapsed": 1703,
     "status": "ok",
     "timestamp": 1606960478638,
     "user": {
      "displayName": "Rajib Bhagat",
      "photoUrl": "https://lh3.googleusercontent.com/a-/AOh14Gjk9xRqLB3KIz_Kf-zSFyEvP0rQ0KIWfvO-pWKXNQ=s64",
      "userId": "05375747577393173060"
     },
     "user_tz": -330
    },
    "id": "TXeyhP4nWdK6",
    "outputId": "68306f50-2e96-46f1-cd32-a6b4fd064946"
   },
   "outputs": [
    {
     "name": "stdout",
     "output_type": "stream",
     "text": [
      "Epoch [10], val_loss: 6796.3291\n"
     ]
    },
    {
     "data": {
      "text/plain": [
       "[{'val_loss': 10201.50390625},\n",
       " {'val_loss': 7958.2705078125},\n",
       " {'val_loss': 7066.74267578125},\n",
       " {'val_loss': 6907.75732421875},\n",
       " {'val_loss': 6880.62158203125},\n",
       " {'val_loss': 6861.1630859375},\n",
       " {'val_loss': 6844.5126953125},\n",
       " {'val_loss': 6828.326171875},\n",
       " {'val_loss': 6811.70068359375},\n",
       " {'val_loss': 6796.3291015625}]"
      ]
     },
     "execution_count": 105,
     "metadata": {
      "tags": []
     },
     "output_type": "execute_result"
    }
   ],
   "source": [
    "epochs = 10\n",
    "lr = 1e-2\n",
    "history1 = fit(epochs, lr, model, train_loader, val_loader)\n",
    "history1"
   ]
  },
  {
   "cell_type": "code",
   "execution_count": 106,
   "metadata": {
    "colab": {
     "base_uri": "https://localhost:8080/",
     "height": 312
    },
    "executionInfo": {
     "elapsed": 1158,
     "status": "ok",
     "timestamp": 1606960481574,
     "user": {
      "displayName": "Rajib Bhagat",
      "photoUrl": "https://lh3.googleusercontent.com/a-/AOh14Gjk9xRqLB3KIz_Kf-zSFyEvP0rQ0KIWfvO-pWKXNQ=s64",
      "userId": "05375747577393173060"
     },
     "user_tz": -330
    },
    "id": "sXl7ce0QWKwY",
    "outputId": "b3727bc2-708d-45e7-df0b-35f3ee03a46a"
   },
   "outputs": [
    {
     "data": {
      "text/plain": [
       "Text(0.5, 1.0, 'Val_loss vs. epochs')"
      ]
     },
     "execution_count": 106,
     "metadata": {
      "tags": []
     },
     "output_type": "execute_result"
    },
    {
     "data": {
      "image/png": "[encoded data removed]",
      "text/plain": [
       "<Figure size 432x288 with 1 Axes>"
      ]
     },
     "metadata": {
      "needs_background": "light",
      "tags": []
     },
     "output_type": "display_data"
    }
   ],
   "source": [
    "loss1 = []\n",
    "for value in history1:\n",
    "    loss1.append(value['val_loss'])\n",
    "plt.plot(loss1)\n",
    "plt.xlabel('epochs')\n",
    "plt.ylabel('val_loss')\n",
    "plt.title('Val_loss vs. epochs')"
   ]
  },
  {
   "cell_type": "code",
   "execution_count": 107,
   "metadata": {
    "colab": {
     "base_uri": "https://localhost:8080/"
    },
    "executionInfo": {
     "elapsed": 8137,
     "status": "ok",
     "timestamp": 1606960491565,
     "user": {
      "displayName": "Rajib Bhagat",
      "photoUrl": "https://lh3.googleusercontent.com/a-/AOh14Gjk9xRqLB3KIz_Kf-zSFyEvP0rQ0KIWfvO-pWKXNQ=s64",
      "userId": "05375747577393173060"
     },
     "user_tz": -330
    },
    "id": "31bukwwyWdK6",
    "outputId": "f1911f9a-c372-4e4e-d3bd-ef6dbd8d6bcf"
   },
   "outputs": [
    {
     "name": "stdout",
     "output_type": "stream",
     "text": [
      "Epoch [20], val_loss: 6762.8838\n",
      "Epoch [40], val_loss: 6728.0771\n",
      "Epoch [60], val_loss: 6696.9663\n",
      "Epoch [80], val_loss: 6666.6221\n",
      "Epoch [100], val_loss: 6636.8779\n"
     ]
    }
   ],
   "source": [
    "epochs = 100\n",
    "lr = 1e-3\n",
    "history2 = fit(epochs, lr, model, train_loader, val_loader)"
   ]
  },
  {
   "cell_type": "code",
   "execution_count": 108,
   "metadata": {
    "colab": {
     "base_uri": "https://localhost:8080/",
     "height": 312
    },
    "executionInfo": {
     "elapsed": 4804,
     "status": "ok",
     "timestamp": 1606960491574,
     "user": {
      "displayName": "Rajib Bhagat",
      "photoUrl": "https://lh3.googleusercontent.com/a-/AOh14Gjk9xRqLB3KIz_Kf-zSFyEvP0rQ0KIWfvO-pWKXNQ=s64",
      "userId": "05375747577393173060"
     },
     "user_tz": -330
    },
    "id": "CVSnJOKLWbnk",
    "outputId": "0c26d928-4f8a-4456-82ac-e05eb349f61e"
   },
   "outputs": [
    {
     "data": {
      "text/plain": [
       "Text(0.5, 1.0, 'Val_loss vs. epochs')"
      ]
     },
     "execution_count": 108,
     "metadata": {
      "tags": []
     },
     "output_type": "execute_result"
    },
    {
     "data": {
      "image/png": "[encoded data removed]",
      "text/plain": [
       "<Figure size 432x288 with 1 Axes>"
      ]
     },
     "metadata": {
      "needs_background": "light",
      "tags": []
     },
     "output_type": "display_data"
    }
   ],
   "source": [
    "loss2 = []\n",
    "for value in history2:\n",
    "    loss2.append(value['val_loss'])\n",
    "plt.plot(loss2)\n",
    "plt.xlabel('epochs')\n",
    "plt.ylabel('val_loss')\n",
    "plt.title('Val_loss vs. epochs')"
   ]
  },
  {
   "cell_type": "code",
   "execution_count": 109,
   "metadata": {
    "colab": {
     "base_uri": "https://localhost:8080/"
    },
    "executionInfo": {
     "elapsed": 34820,
     "status": "ok",
     "timestamp": 1606960522422,
     "user": {
      "displayName": "Rajib Bhagat",
      "photoUrl": "https://lh3.googleusercontent.com/a-/AOh14Gjk9xRqLB3KIz_Kf-zSFyEvP0rQ0KIWfvO-pWKXNQ=s64",
      "userId": "05375747577393173060"
     },
     "user_tz": -330
    },
    "id": "bNUbhab9WdK6",
    "outputId": "34dd51be-048d-4ce8-d3e6-c33fb276d81f"
   },
   "outputs": [
    {
     "name": "stdout",
     "output_type": "stream",
     "text": [
      "Epoch [20], val_loss: 6634.0327\n",
      "Epoch [40], val_loss: 6631.1880\n",
      "Epoch [60], val_loss: 6628.3247\n",
      "Epoch [80], val_loss: 6625.3232\n",
      "Epoch [100], val_loss: 6622.3091\n",
      "Epoch [120], val_loss: 6619.2954\n",
      "Epoch [140], val_loss: 6616.2812\n",
      "Epoch [160], val_loss: 6613.2998\n",
      "Epoch [180], val_loss: 6610.3779\n",
      "Epoch [200], val_loss: 6607.4556\n",
      "Epoch [220], val_loss: 6604.5337\n",
      "Epoch [240], val_loss: 6601.6123\n",
      "Epoch [260], val_loss: 6598.6704\n",
      "Epoch [280], val_loss: 6595.6826\n",
      "Epoch [300], val_loss: 6592.7046\n",
      "Epoch [320], val_loss: 6589.7808\n",
      "Epoch [340], val_loss: 6586.8794\n",
      "Epoch [360], val_loss: 6583.9883\n",
      "Epoch [380], val_loss: 6581.0884\n",
      "Epoch [400], val_loss: 6578.1665\n",
      "Epoch [420], val_loss: 6575.2285\n",
      "Epoch [440], val_loss: 6572.2871\n",
      "Epoch [460], val_loss: 6569.3335\n",
      "Epoch [480], val_loss: 6566.3877\n",
      "Epoch [500], val_loss: 6563.4961\n"
     ]
    }
   ],
   "source": [
    "epochs = 500\n",
    "lr = 1e-4\n",
    "history3 = fit(epochs, lr, model, train_loader, val_loader)"
   ]
  },
  {
   "cell_type": "code",
   "execution_count": 110,
   "metadata": {
    "colab": {
     "base_uri": "https://localhost:8080/",
     "height": 312
    },
    "executionInfo": {
     "elapsed": 33865,
     "status": "ok",
     "timestamp": 1606960522430,
     "user": {
      "displayName": "Rajib Bhagat",
      "photoUrl": "https://lh3.googleusercontent.com/a-/AOh14Gjk9xRqLB3KIz_Kf-zSFyEvP0rQ0KIWfvO-pWKXNQ=s64",
      "userId": "05375747577393173060"
     },
     "user_tz": -330
    },
    "id": "BxmHBuSiWkpd",
    "outputId": "f01f75ca-3d44-451c-ec50-44538aabc79f"
   },
   "outputs": [
    {
     "data": {
      "text/plain": [
       "Text(0.5, 1.0, 'Val_loss vs. epochs')"
      ]
     },
     "execution_count": 110,
     "metadata": {
      "tags": []
     },
     "output_type": "execute_result"
    },
    {
     "data": {
      "image/png": "[encoded data removed]",
      "text/plain": [
       "<Figure size 432x288 with 1 Axes>"
      ]
     },
     "metadata": {
      "needs_background": "light",
      "tags": []
     },
     "output_type": "display_data"
    }
   ],
   "source": [
    "loss3 = []\n",
    "for value in history3:\n",
    "    loss3.append(value['val_loss'])\n",
    "plt.plot(loss3)\n",
    "plt.xlabel('epochs')\n",
    "plt.ylabel('val_loss')\n",
    "plt.title('Val_loss vs. epochs')"
   ]
  },
  {
   "cell_type": "code",
   "execution_count": 111,
   "metadata": {
    "colab": {
     "base_uri": "https://localhost:8080/"
    },
    "executionInfo": {
     "elapsed": 85512,
     "status": "ok",
     "timestamp": 1606960574846,
     "user": {
      "displayName": "Rajib Bhagat",
      "photoUrl": "https://lh3.googleusercontent.com/a-/AOh14Gjk9xRqLB3KIz_Kf-zSFyEvP0rQ0KIWfvO-pWKXNQ=s64",
      "userId": "05375747577393173060"
     },
     "user_tz": -330
    },
    "id": "t9gHZCV7WdK7",
    "outputId": "359f6943-9a87-4f1d-943d-2385c210b193"
   },
   "outputs": [
    {
     "name": "stdout",
     "output_type": "stream",
     "text": [
      "Epoch [20], val_loss: 6563.2080\n",
      "Epoch [40], val_loss: 6562.9199\n",
      "Epoch [60], val_loss: 6562.6323\n",
      "Epoch [80], val_loss: 6562.3438\n",
      "Epoch [100], val_loss: 6562.0557\n",
      "Epoch [120], val_loss: 6561.7666\n",
      "Epoch [140], val_loss: 6561.4790\n",
      "Epoch [160], val_loss: 6561.1904\n",
      "Epoch [180], val_loss: 6560.9019\n",
      "Epoch [200], val_loss: 6560.6235\n",
      "Epoch [220], val_loss: 6560.3398\n",
      "Epoch [240], val_loss: 6560.0542\n",
      "Epoch [260], val_loss: 6559.7637\n",
      "Epoch [280], val_loss: 6559.4722\n",
      "Epoch [300], val_loss: 6559.1797\n",
      "Epoch [320], val_loss: 6558.8872\n",
      "Epoch [340], val_loss: 6558.5952\n",
      "Epoch [360], val_loss: 6558.3037\n",
      "Epoch [380], val_loss: 6558.0107\n",
      "Epoch [400], val_loss: 6557.7222\n",
      "Epoch [420], val_loss: 6557.4419\n",
      "Epoch [440], val_loss: 6557.1621\n",
      "Epoch [460], val_loss: 6556.8828\n",
      "Epoch [480], val_loss: 6556.6021\n",
      "Epoch [500], val_loss: 6556.3228\n",
      "Epoch [520], val_loss: 6556.0439\n",
      "Epoch [540], val_loss: 6555.7578\n",
      "Epoch [560], val_loss: 6555.4697\n",
      "Epoch [580], val_loss: 6555.1812\n",
      "Epoch [600], val_loss: 6554.8936\n",
      "Epoch [620], val_loss: 6554.6084\n",
      "Epoch [640], val_loss: 6554.3325\n",
      "Epoch [660], val_loss: 6554.0557\n",
      "Epoch [680], val_loss: 6553.7808\n",
      "Epoch [700], val_loss: 6553.5049\n",
      "Epoch [720], val_loss: 6553.2295\n",
      "Epoch [740], val_loss: 6552.9541\n",
      "Epoch [760], val_loss: 6552.6777\n",
      "Epoch [780], val_loss: 6552.4028\n",
      "Epoch [800], val_loss: 6552.1270\n"
     ]
    }
   ],
   "source": [
    "epochs = 800\n",
    "lr = 1e-5\n",
    "history4 = fit(epochs, lr, model, train_loader, val_loader)"
   ]
  },
  {
   "cell_type": "code",
   "execution_count": 112,
   "metadata": {
    "colab": {
     "base_uri": "https://localhost:8080/",
     "height": 312
    },
    "executionInfo": {
     "elapsed": 84642,
     "status": "ok",
     "timestamp": 1606960574855,
     "user": {
      "displayName": "Rajib Bhagat",
      "photoUrl": "https://lh3.googleusercontent.com/a-/AOh14Gjk9xRqLB3KIz_Kf-zSFyEvP0rQ0KIWfvO-pWKXNQ=s64",
      "userId": "05375747577393173060"
     },
     "user_tz": -330
    },
    "id": "2wpCjT_2W0Kr",
    "outputId": "6ecf607e-2314-4a78-8799-5abdf765bea0"
   },
   "outputs": [
    {
     "data": {
      "text/plain": [
       "Text(0.5, 1.0, 'Val_loss vs. epochs')"
      ]
     },
     "execution_count": 112,
     "metadata": {
      "tags": []
     },
     "output_type": "execute_result"
    },
    {
     "data": {
      "image/png": "[encoded data removed]",
      "text/plain": [
       "<Figure size 432x288 with 1 Axes>"
      ]
     },
     "metadata": {
      "needs_background": "light",
      "tags": []
     },
     "output_type": "display_data"
    }
   ],
   "source": [
    "loss4 = []\n",
    "for value in history4:\n",
    "    loss4.append(value['val_loss'])\n",
    "plt.plot(loss4)\n",
    "plt.xlabel('epochs')\n",
    "plt.ylabel('val_loss')\n",
    "plt.title('Val_loss vs. epochs')"
   ]
  },
  {
   "cell_type": "code",
   "execution_count": 113,
   "metadata": {
    "colab": {
     "base_uri": "https://localhost:8080/"
    },
    "executionInfo": {
     "elapsed": 147507,
     "status": "ok",
     "timestamp": 1606960638799,
     "user": {
      "displayName": "Rajib Bhagat",
      "photoUrl": "https://lh3.googleusercontent.com/a-/AOh14Gjk9xRqLB3KIz_Kf-zSFyEvP0rQ0KIWfvO-pWKXNQ=s64",
      "userId": "05375747577393173060"
     },
     "user_tz": -330
    },
    "id": "1DweT_6ZWdK7",
    "outputId": "2262e8ac-e138-458f-a434-b2488f8a7377"
   },
   "outputs": [
    {
     "name": "stdout",
     "output_type": "stream",
     "text": [
      "Epoch [20], val_loss: 6552.0996\n",
      "Epoch [40], val_loss: 6552.0718\n",
      "Epoch [60], val_loss: 6552.0439\n",
      "Epoch [80], val_loss: 6552.0161\n",
      "Epoch [100], val_loss: 6551.9888\n",
      "Epoch [120], val_loss: 6551.9609\n",
      "Epoch [140], val_loss: 6551.9336\n",
      "Epoch [160], val_loss: 6551.9053\n",
      "Epoch [180], val_loss: 6551.8784\n",
      "Epoch [200], val_loss: 6551.8491\n",
      "Epoch [220], val_loss: 6551.8223\n",
      "Epoch [240], val_loss: 6551.7944\n",
      "Epoch [260], val_loss: 6551.7671\n",
      "Epoch [280], val_loss: 6551.7388\n",
      "Epoch [300], val_loss: 6551.7114\n",
      "Epoch [320], val_loss: 6551.6841\n",
      "Epoch [340], val_loss: 6551.6562\n",
      "Epoch [360], val_loss: 6551.6289\n",
      "Epoch [380], val_loss: 6551.6016\n",
      "Epoch [400], val_loss: 6551.5742\n",
      "Epoch [420], val_loss: 6551.5459\n",
      "Epoch [440], val_loss: 6551.5186\n",
      "Epoch [460], val_loss: 6551.4912\n",
      "Epoch [480], val_loss: 6551.4629\n",
      "Epoch [500], val_loss: 6551.4355\n",
      "Epoch [520], val_loss: 6551.4082\n",
      "Epoch [540], val_loss: 6551.3804\n",
      "Epoch [560], val_loss: 6551.3535\n",
      "Epoch [580], val_loss: 6551.3252\n",
      "Epoch [600], val_loss: 6551.2974\n",
      "Epoch [620], val_loss: 6551.2700\n",
      "Epoch [640], val_loss: 6551.2422\n",
      "Epoch [660], val_loss: 6551.2144\n",
      "Epoch [680], val_loss: 6551.1860\n",
      "Epoch [700], val_loss: 6551.1592\n",
      "Epoch [720], val_loss: 6551.1313\n",
      "Epoch [740], val_loss: 6551.1030\n",
      "Epoch [760], val_loss: 6551.0762\n",
      "Epoch [780], val_loss: 6551.0483\n",
      "Epoch [800], val_loss: 6551.0210\n",
      "Epoch [820], val_loss: 6550.9937\n",
      "Epoch [840], val_loss: 6550.9653\n",
      "Epoch [860], val_loss: 6550.9380\n",
      "Epoch [880], val_loss: 6550.9102\n",
      "Epoch [900], val_loss: 6550.8833\n",
      "Epoch [920], val_loss: 6550.8550\n",
      "Epoch [940], val_loss: 6550.8276\n",
      "Epoch [960], val_loss: 6550.7998\n",
      "Epoch [980], val_loss: 6550.7715\n",
      "Epoch [1000], val_loss: 6550.7432\n"
     ]
    }
   ],
   "source": [
    "epochs = 1000\n",
    "lr = 1e-6\n",
    "history5 = fit(epochs, lr, model, train_loader, val_loader)"
   ]
  },
  {
   "cell_type": "code",
   "execution_count": 114,
   "metadata": {
    "colab": {
     "base_uri": "https://localhost:8080/",
     "height": 312
    },
    "executionInfo": {
     "elapsed": 144497,
     "status": "ok",
     "timestamp": 1606960638807,
     "user": {
      "displayName": "Rajib Bhagat",
      "photoUrl": "https://lh3.googleusercontent.com/a-/AOh14Gjk9xRqLB3KIz_Kf-zSFyEvP0rQ0KIWfvO-pWKXNQ=s64",
      "userId": "05375747577393173060"
     },
     "user_tz": -330
    },
    "id": "n0PxvgtpVweM",
    "outputId": "428563df-50ee-4913-837e-a9a4fc335297"
   },
   "outputs": [
    {
     "data": {
      "text/plain": [
       "Text(0.5, 1.0, 'Val_loss vs. epochs')"
      ]
     },
     "execution_count": 114,
     "metadata": {
      "tags": []
     },
     "output_type": "execute_result"
    },
    {
     "data": {
      "image/png": "[encoded data removed]",
      "text/plain": [
       "<Figure size 432x288 with 1 Axes>"
      ]
     },
     "metadata": {
      "needs_background": "light",
      "tags": []
     },
     "output_type": "display_data"
    }
   ],
   "source": [
    "loss5 = []\n",
    "for value in history5:\n",
    "    loss5.append(value['val_loss'])\n",
    "plt.plot(loss5)\n",
    "plt.xlabel('epochs')\n",
    "plt.ylabel('val_loss')\n",
    "plt.title('Val_loss vs. epochs')"
   ]
  },
  {
   "cell_type": "code",
   "execution_count": 124,
   "metadata": {
    "colab": {
     "base_uri": "https://localhost:8080/"
    },
    "executionInfo": {
     "elapsed": 624495,
     "status": "ok",
     "timestamp": 1606961567272,
     "user": {
      "displayName": "Rajib Bhagat",
      "photoUrl": "https://lh3.googleusercontent.com/a-/AOh14Gjk9xRqLB3KIz_Kf-zSFyEvP0rQ0KIWfvO-pWKXNQ=s64",
      "userId": "05375747577393173060"
     },
     "user_tz": -330
    },
    "id": "YWt459_0Va96",
    "outputId": "0faca830-1338-4a75-c7cf-0070a96bfbbb"
   },
   "outputs": [
    {
     "name": "stdout",
     "output_type": "stream",
     "text": [
      "Epoch [20], val_loss: 6550.7148\n",
      "Epoch [40], val_loss: 6550.6875\n",
      "Epoch [60], val_loss: 6550.6592\n",
      "Epoch [80], val_loss: 6550.6304\n",
      "Epoch [100], val_loss: 6550.6025\n",
      "Epoch [120], val_loss: 6550.5742\n",
      "Epoch [140], val_loss: 6550.5459\n",
      "Epoch [160], val_loss: 6550.5171\n",
      "Epoch [180], val_loss: 6550.4893\n",
      "Epoch [200], val_loss: 6550.4604\n",
      "Epoch [220], val_loss: 6550.4321\n",
      "Epoch [240], val_loss: 6550.4033\n",
      "Epoch [260], val_loss: 6550.3750\n",
      "Epoch [280], val_loss: 6550.3472\n",
      "Epoch [300], val_loss: 6550.3193\n",
      "Epoch [320], val_loss: 6550.2910\n",
      "Epoch [340], val_loss: 6550.2627\n",
      "Epoch [360], val_loss: 6550.2344\n",
      "Epoch [380], val_loss: 6550.2065\n",
      "Epoch [400], val_loss: 6550.1782\n",
      "Epoch [420], val_loss: 6550.1504\n",
      "Epoch [440], val_loss: 6550.1211\n",
      "Epoch [460], val_loss: 6550.0938\n",
      "Epoch [480], val_loss: 6550.0654\n",
      "Epoch [500], val_loss: 6550.0376\n",
      "Epoch [520], val_loss: 6550.0078\n",
      "Epoch [540], val_loss: 6549.9800\n",
      "Epoch [560], val_loss: 6549.9517\n",
      "Epoch [580], val_loss: 6549.9233\n",
      "Epoch [600], val_loss: 6549.8945\n",
      "Epoch [620], val_loss: 6549.8667\n",
      "Epoch [640], val_loss: 6549.8379\n",
      "Epoch [660], val_loss: 6549.8096\n",
      "Epoch [680], val_loss: 6549.7812\n",
      "Epoch [700], val_loss: 6549.7529\n",
      "Epoch [720], val_loss: 6549.7246\n",
      "Epoch [740], val_loss: 6549.6968\n",
      "Epoch [760], val_loss: 6549.6685\n",
      "Epoch [780], val_loss: 6549.6406\n",
      "Epoch [800], val_loss: 6549.6113\n",
      "Epoch [820], val_loss: 6549.5835\n",
      "Epoch [840], val_loss: 6549.5552\n",
      "Epoch [860], val_loss: 6549.5269\n",
      "Epoch [880], val_loss: 6549.4990\n",
      "Epoch [900], val_loss: 6549.4697\n",
      "Epoch [920], val_loss: 6549.4414\n",
      "Epoch [940], val_loss: 6549.4131\n",
      "Epoch [960], val_loss: 6549.3848\n",
      "Epoch [980], val_loss: 6549.3564\n",
      "Epoch [1000], val_loss: 6549.3286\n",
      "Epoch [1020], val_loss: 6549.3003\n",
      "Epoch [1040], val_loss: 6549.2715\n",
      "Epoch [1060], val_loss: 6549.2437\n",
      "Epoch [1080], val_loss: 6549.2148\n",
      "Epoch [1100], val_loss: 6549.1870\n",
      "Epoch [1120], val_loss: 6549.1592\n",
      "Epoch [1140], val_loss: 6549.1304\n",
      "Epoch [1160], val_loss: 6549.1016\n",
      "Epoch [1180], val_loss: 6549.0737\n",
      "Epoch [1200], val_loss: 6549.0454\n",
      "Epoch [1220], val_loss: 6549.0171\n",
      "Epoch [1240], val_loss: 6548.9888\n",
      "Epoch [1260], val_loss: 6548.9604\n",
      "Epoch [1280], val_loss: 6548.9316\n",
      "Epoch [1300], val_loss: 6548.9028\n",
      "Epoch [1320], val_loss: 6548.8745\n",
      "Epoch [1340], val_loss: 6548.8457\n",
      "Epoch [1360], val_loss: 6548.8179\n",
      "Epoch [1380], val_loss: 6548.7900\n",
      "Epoch [1400], val_loss: 6548.7617\n",
      "Epoch [1420], val_loss: 6548.7324\n",
      "Epoch [1440], val_loss: 6548.7041\n",
      "Epoch [1460], val_loss: 6548.6763\n",
      "Epoch [1480], val_loss: 6548.6470\n",
      "Epoch [1500], val_loss: 6548.6182\n",
      "Epoch [1520], val_loss: 6548.5898\n",
      "Epoch [1540], val_loss: 6548.5620\n",
      "Epoch [1560], val_loss: 6548.5337\n",
      "Epoch [1580], val_loss: 6548.5049\n",
      "Epoch [1600], val_loss: 6548.4771\n",
      "Epoch [1620], val_loss: 6548.4492\n",
      "Epoch [1640], val_loss: 6548.4199\n",
      "Epoch [1660], val_loss: 6548.3916\n",
      "Epoch [1680], val_loss: 6548.3633\n",
      "Epoch [1700], val_loss: 6548.3354\n",
      "Epoch [1720], val_loss: 6548.3071\n",
      "Epoch [1740], val_loss: 6548.2788\n",
      "Epoch [1760], val_loss: 6548.2505\n",
      "Epoch [1780], val_loss: 6548.2207\n",
      "Epoch [1800], val_loss: 6548.1929\n",
      "Epoch [1820], val_loss: 6548.1650\n",
      "Epoch [1840], val_loss: 6548.1372\n",
      "Epoch [1860], val_loss: 6548.1089\n",
      "Epoch [1880], val_loss: 6548.0806\n",
      "Epoch [1900], val_loss: 6548.0527\n",
      "Epoch [1920], val_loss: 6548.0239\n",
      "Epoch [1940], val_loss: 6547.9956\n",
      "Epoch [1960], val_loss: 6547.9683\n",
      "Epoch [1980], val_loss: 6547.9399\n",
      "Epoch [2000], val_loss: 6547.9111\n",
      "Epoch [2020], val_loss: 6547.8833\n",
      "Epoch [2040], val_loss: 6547.8545\n",
      "Epoch [2060], val_loss: 6547.8257\n",
      "Epoch [2080], val_loss: 6547.7979\n",
      "Epoch [2100], val_loss: 6547.7695\n",
      "Epoch [2120], val_loss: 6547.7417\n",
      "Epoch [2140], val_loss: 6547.7119\n",
      "Epoch [2160], val_loss: 6547.6841\n",
      "Epoch [2180], val_loss: 6547.6558\n",
      "Epoch [2200], val_loss: 6547.6279\n",
      "Epoch [2220], val_loss: 6547.6001\n",
      "Epoch [2240], val_loss: 6547.5718\n",
      "Epoch [2260], val_loss: 6547.5430\n",
      "Epoch [2280], val_loss: 6547.5146\n",
      "Epoch [2300], val_loss: 6547.4868\n",
      "Epoch [2320], val_loss: 6547.4595\n",
      "Epoch [2340], val_loss: 6547.4316\n",
      "Epoch [2360], val_loss: 6547.4028\n",
      "Epoch [2380], val_loss: 6547.3750\n",
      "Epoch [2400], val_loss: 6547.3457\n",
      "Epoch [2420], val_loss: 6547.3174\n",
      "Epoch [2440], val_loss: 6547.2896\n",
      "Epoch [2460], val_loss: 6547.2617\n",
      "Epoch [2480], val_loss: 6547.2334\n",
      "Epoch [2500], val_loss: 6547.2051\n",
      "Epoch [2520], val_loss: 6547.1772\n",
      "Epoch [2540], val_loss: 6547.1484\n",
      "Epoch [2560], val_loss: 6547.1201\n",
      "Epoch [2580], val_loss: 6547.0923\n",
      "Epoch [2600], val_loss: 6547.0640\n",
      "Epoch [2620], val_loss: 6547.0356\n",
      "Epoch [2640], val_loss: 6547.0068\n",
      "Epoch [2660], val_loss: 6546.9790\n",
      "Epoch [2680], val_loss: 6546.9512\n",
      "Epoch [2700], val_loss: 6546.9229\n",
      "Epoch [2720], val_loss: 6546.8950\n",
      "Epoch [2740], val_loss: 6546.8662\n",
      "Epoch [2760], val_loss: 6546.8379\n",
      "Epoch [2780], val_loss: 6546.8091\n",
      "Epoch [2800], val_loss: 6546.7812\n",
      "Epoch [2820], val_loss: 6546.7529\n",
      "Epoch [2840], val_loss: 6546.7241\n",
      "Epoch [2860], val_loss: 6546.6953\n",
      "Epoch [2880], val_loss: 6546.6670\n",
      "Epoch [2900], val_loss: 6546.6392\n",
      "Epoch [2920], val_loss: 6546.6104\n",
      "Epoch [2940], val_loss: 6546.5825\n",
      "Epoch [2960], val_loss: 6546.5542\n",
      "Epoch [2980], val_loss: 6546.5259\n",
      "Epoch [3000], val_loss: 6546.4971\n",
      "Epoch [3020], val_loss: 6546.4688\n",
      "Epoch [3040], val_loss: 6546.4404\n",
      "Epoch [3060], val_loss: 6546.4121\n",
      "Epoch [3080], val_loss: 6546.3843\n",
      "Epoch [3100], val_loss: 6546.3555\n",
      "Epoch [3120], val_loss: 6546.3276\n",
      "Epoch [3140], val_loss: 6546.2993\n",
      "Epoch [3160], val_loss: 6546.2710\n",
      "Epoch [3180], val_loss: 6546.2437\n",
      "Epoch [3200], val_loss: 6546.2148\n",
      "Epoch [3220], val_loss: 6546.1860\n",
      "Epoch [3240], val_loss: 6546.1577\n",
      "Epoch [3260], val_loss: 6546.1299\n",
      "Epoch [3280], val_loss: 6546.1021\n",
      "Epoch [3300], val_loss: 6546.0737\n",
      "Epoch [3320], val_loss: 6546.0454\n",
      "Epoch [3340], val_loss: 6546.0171\n",
      "Epoch [3360], val_loss: 6545.9888\n",
      "Epoch [3380], val_loss: 6545.9604\n",
      "Epoch [3400], val_loss: 6545.9326\n",
      "Epoch [3420], val_loss: 6545.9033\n",
      "Epoch [3440], val_loss: 6545.8750\n",
      "Epoch [3460], val_loss: 6545.8472\n",
      "Epoch [3480], val_loss: 6545.8188\n",
      "Epoch [3500], val_loss: 6545.7905\n",
      "Epoch [3520], val_loss: 6545.7627\n",
      "Epoch [3540], val_loss: 6545.7354\n",
      "Epoch [3560], val_loss: 6545.7070\n",
      "Epoch [3580], val_loss: 6545.6777\n",
      "Epoch [3600], val_loss: 6545.6499\n",
      "Epoch [3620], val_loss: 6545.6221\n",
      "Epoch [3640], val_loss: 6545.5928\n",
      "Epoch [3660], val_loss: 6545.5649\n",
      "Epoch [3680], val_loss: 6545.5371\n",
      "Epoch [3700], val_loss: 6545.5093\n",
      "Epoch [3720], val_loss: 6545.4810\n",
      "Epoch [3740], val_loss: 6545.4531\n",
      "Epoch [3760], val_loss: 6545.4248\n",
      "Epoch [3780], val_loss: 6545.3960\n",
      "Epoch [3800], val_loss: 6545.3682\n",
      "Epoch [3820], val_loss: 6545.3403\n",
      "Epoch [3840], val_loss: 6545.3115\n",
      "Epoch [3860], val_loss: 6545.2832\n",
      "Epoch [3880], val_loss: 6545.2549\n",
      "Epoch [3900], val_loss: 6545.2266\n",
      "Epoch [3920], val_loss: 6545.1987\n",
      "Epoch [3940], val_loss: 6545.1699\n",
      "Epoch [3960], val_loss: 6545.1416\n",
      "Epoch [3980], val_loss: 6545.1128\n",
      "Epoch [4000], val_loss: 6545.0850\n",
      "Epoch [4020], val_loss: 6545.0571\n",
      "Epoch [4040], val_loss: 6545.0288\n",
      "Epoch [4060], val_loss: 6545.0000\n",
      "Epoch [4080], val_loss: 6544.9722\n",
      "Epoch [4100], val_loss: 6544.9443\n",
      "Epoch [4120], val_loss: 6544.9155\n",
      "Epoch [4140], val_loss: 6544.8872\n",
      "Epoch [4160], val_loss: 6544.8594\n",
      "Epoch [4180], val_loss: 6544.8315\n",
      "Epoch [4200], val_loss: 6544.8032\n",
      "Epoch [4220], val_loss: 6544.7754\n",
      "Epoch [4240], val_loss: 6544.7480\n",
      "Epoch [4260], val_loss: 6544.7197\n",
      "Epoch [4280], val_loss: 6544.6919\n",
      "Epoch [4300], val_loss: 6544.6626\n",
      "Epoch [4320], val_loss: 6544.6357\n",
      "Epoch [4340], val_loss: 6544.6064\n",
      "Epoch [4360], val_loss: 6544.5796\n",
      "Epoch [4380], val_loss: 6544.5508\n",
      "Epoch [4400], val_loss: 6544.5225\n",
      "Epoch [4420], val_loss: 6544.4946\n",
      "Epoch [4440], val_loss: 6544.4663\n",
      "Epoch [4460], val_loss: 6544.4380\n",
      "Epoch [4480], val_loss: 6544.4092\n",
      "Epoch [4500], val_loss: 6544.3813\n",
      "Epoch [4520], val_loss: 6544.3530\n",
      "Epoch [4540], val_loss: 6544.3247\n",
      "Epoch [4560], val_loss: 6544.2964\n",
      "Epoch [4580], val_loss: 6544.2676\n",
      "Epoch [4600], val_loss: 6544.2402\n",
      "Epoch [4620], val_loss: 6544.2114\n",
      "Epoch [4640], val_loss: 6544.1826\n",
      "Epoch [4660], val_loss: 6544.1543\n",
      "Epoch [4680], val_loss: 6544.1260\n",
      "Epoch [4700], val_loss: 6544.0977\n",
      "Epoch [4720], val_loss: 6544.0703\n",
      "Epoch [4740], val_loss: 6544.0415\n",
      "Epoch [4760], val_loss: 6544.0127\n",
      "Epoch [4780], val_loss: 6543.9849\n",
      "Epoch [4800], val_loss: 6543.9561\n",
      "Epoch [4820], val_loss: 6543.9282\n",
      "Epoch [4840], val_loss: 6543.9009\n",
      "Epoch [4860], val_loss: 6543.8730\n",
      "Epoch [4880], val_loss: 6543.8442\n",
      "Epoch [4900], val_loss: 6543.8164\n",
      "Epoch [4920], val_loss: 6543.7876\n",
      "Epoch [4940], val_loss: 6543.7603\n",
      "Epoch [4960], val_loss: 6543.7324\n",
      "Epoch [4980], val_loss: 6543.7041\n",
      "Epoch [5000], val_loss: 6543.6758\n",
      "Epoch [5020], val_loss: 6543.6475\n",
      "Epoch [5040], val_loss: 6543.6201\n",
      "Epoch [5060], val_loss: 6543.5918\n",
      "Epoch [5080], val_loss: 6543.5640\n",
      "Epoch [5100], val_loss: 6543.5356\n",
      "Epoch [5120], val_loss: 6543.5078\n",
      "Epoch [5140], val_loss: 6543.4795\n",
      "Epoch [5160], val_loss: 6543.4512\n",
      "Epoch [5180], val_loss: 6543.4238\n",
      "Epoch [5200], val_loss: 6543.3945\n",
      "Epoch [5220], val_loss: 6543.3667\n",
      "Epoch [5240], val_loss: 6543.3384\n",
      "Epoch [5260], val_loss: 6543.3096\n",
      "Epoch [5280], val_loss: 6543.2822\n",
      "Epoch [5300], val_loss: 6543.2539\n",
      "Epoch [5320], val_loss: 6543.2256\n",
      "Epoch [5340], val_loss: 6543.1973\n",
      "Epoch [5360], val_loss: 6543.1689\n",
      "Epoch [5380], val_loss: 6543.1406\n",
      "Epoch [5400], val_loss: 6543.1133\n",
      "Epoch [5420], val_loss: 6543.0845\n",
      "Epoch [5440], val_loss: 6543.0557\n",
      "Epoch [5460], val_loss: 6543.0278\n",
      "Epoch [5480], val_loss: 6542.9990\n",
      "Epoch [5500], val_loss: 6542.9707\n",
      "Epoch [5520], val_loss: 6542.9429\n",
      "Epoch [5540], val_loss: 6542.9141\n",
      "Epoch [5560], val_loss: 6542.8862\n",
      "Epoch [5580], val_loss: 6542.8574\n",
      "Epoch [5600], val_loss: 6542.8301\n",
      "Epoch [5620], val_loss: 6542.8013\n",
      "Epoch [5640], val_loss: 6542.7734\n",
      "Epoch [5660], val_loss: 6542.7451\n",
      "Epoch [5680], val_loss: 6542.7168\n",
      "Epoch [5700], val_loss: 6542.6885\n",
      "Epoch [5720], val_loss: 6542.6606\n",
      "Epoch [5740], val_loss: 6542.6328\n",
      "Epoch [5760], val_loss: 6542.6040\n",
      "Epoch [5780], val_loss: 6542.5767\n",
      "Epoch [5800], val_loss: 6542.5488\n",
      "Epoch [5820], val_loss: 6542.5205\n",
      "Epoch [5840], val_loss: 6542.4922\n",
      "Epoch [5860], val_loss: 6542.4639\n",
      "Epoch [5880], val_loss: 6542.4355\n",
      "Epoch [5900], val_loss: 6542.4072\n",
      "Epoch [5920], val_loss: 6542.3799\n",
      "Epoch [5940], val_loss: 6542.3525\n",
      "Epoch [5960], val_loss: 6542.3237\n",
      "Epoch [5980], val_loss: 6542.2954\n",
      "Epoch [6000], val_loss: 6542.2676\n",
      "Epoch [6020], val_loss: 6542.2393\n",
      "Epoch [6040], val_loss: 6542.2104\n",
      "Epoch [6060], val_loss: 6542.1831\n",
      "Epoch [6080], val_loss: 6542.1543\n",
      "Epoch [6100], val_loss: 6542.1265\n",
      "Epoch [6120], val_loss: 6542.0981\n",
      "Epoch [6140], val_loss: 6542.0703\n",
      "Epoch [6160], val_loss: 6542.0415\n",
      "Epoch [6180], val_loss: 6542.0132\n",
      "Epoch [6200], val_loss: 6541.9849\n",
      "Epoch [6220], val_loss: 6541.9565\n",
      "Epoch [6240], val_loss: 6541.9282\n",
      "Epoch [6260], val_loss: 6541.9004\n",
      "Epoch [6280], val_loss: 6541.8721\n",
      "Epoch [6300], val_loss: 6541.8433\n",
      "Epoch [6320], val_loss: 6541.8154\n",
      "Epoch [6340], val_loss: 6541.7876\n",
      "Epoch [6360], val_loss: 6541.7588\n",
      "Epoch [6380], val_loss: 6541.7305\n",
      "Epoch [6400], val_loss: 6541.7021\n",
      "Epoch [6420], val_loss: 6541.6738\n",
      "Epoch [6440], val_loss: 6541.6455\n",
      "Epoch [6460], val_loss: 6541.6177\n",
      "Epoch [6480], val_loss: 6541.5898\n",
      "Epoch [6500], val_loss: 6541.5610\n",
      "Epoch [6520], val_loss: 6541.5332\n",
      "Epoch [6540], val_loss: 6541.5049\n",
      "Epoch [6560], val_loss: 6541.4766\n",
      "Epoch [6580], val_loss: 6541.4478\n",
      "Epoch [6600], val_loss: 6541.4194\n",
      "Epoch [6620], val_loss: 6541.3911\n",
      "Epoch [6640], val_loss: 6541.3633\n",
      "Epoch [6660], val_loss: 6541.3350\n",
      "Epoch [6680], val_loss: 6541.3071\n",
      "Epoch [6700], val_loss: 6541.2783\n",
      "Epoch [6720], val_loss: 6541.2505\n",
      "Epoch [6740], val_loss: 6541.2222\n",
      "Epoch [6760], val_loss: 6541.1948\n",
      "Epoch [6780], val_loss: 6541.1660\n",
      "Epoch [6800], val_loss: 6541.1377\n",
      "Epoch [6820], val_loss: 6541.1094\n",
      "Epoch [6840], val_loss: 6541.0815\n",
      "Epoch [6860], val_loss: 6541.0527\n",
      "Epoch [6880], val_loss: 6541.0244\n",
      "Epoch [6900], val_loss: 6540.9961\n",
      "Epoch [6920], val_loss: 6540.9678\n",
      "Epoch [6940], val_loss: 6540.9395\n",
      "Epoch [6960], val_loss: 6540.9111\n",
      "Epoch [6980], val_loss: 6540.8828\n",
      "Epoch [7000], val_loss: 6540.8555\n",
      "Epoch [7020], val_loss: 6540.8267\n",
      "Epoch [7040], val_loss: 6540.7988\n",
      "Epoch [7060], val_loss: 6540.7700\n",
      "Epoch [7080], val_loss: 6540.7422\n",
      "Epoch [7100], val_loss: 6540.7139\n",
      "Epoch [7120], val_loss: 6540.6860\n",
      "Epoch [7140], val_loss: 6540.6567\n",
      "Epoch [7160], val_loss: 6540.6289\n",
      "Epoch [7180], val_loss: 6540.6011\n",
      "Epoch [7200], val_loss: 6540.5718\n",
      "Epoch [7220], val_loss: 6540.5430\n",
      "Epoch [7240], val_loss: 6540.5137\n",
      "Epoch [7260], val_loss: 6540.4849\n",
      "Epoch [7280], val_loss: 6540.4561\n",
      "Epoch [7300], val_loss: 6540.4268\n",
      "Epoch [7320], val_loss: 6540.3984\n",
      "Epoch [7340], val_loss: 6540.3696\n",
      "Epoch [7360], val_loss: 6540.3403\n",
      "Epoch [7380], val_loss: 6540.3110\n",
      "Epoch [7400], val_loss: 6540.2817\n",
      "Epoch [7420], val_loss: 6540.2529\n",
      "Epoch [7440], val_loss: 6540.2246\n",
      "Epoch [7460], val_loss: 6540.1948\n",
      "Epoch [7480], val_loss: 6540.1660\n",
      "Epoch [7500], val_loss: 6540.1367\n",
      "Epoch [7520], val_loss: 6540.1074\n",
      "Epoch [7540], val_loss: 6540.0786\n",
      "Epoch [7560], val_loss: 6540.0498\n",
      "Epoch [7580], val_loss: 6540.0205\n",
      "Epoch [7600], val_loss: 6539.9912\n",
      "Epoch [7620], val_loss: 6539.9619\n",
      "Epoch [7640], val_loss: 6539.9331\n",
      "Epoch [7660], val_loss: 6539.9048\n",
      "Epoch [7680], val_loss: 6539.8755\n",
      "Epoch [7700], val_loss: 6539.8467\n",
      "Epoch [7720], val_loss: 6539.8174\n",
      "Epoch [7740], val_loss: 6539.7886\n",
      "Epoch [7760], val_loss: 6539.7598\n",
      "Epoch [7780], val_loss: 6539.7295\n",
      "Epoch [7800], val_loss: 6539.7017\n",
      "Epoch [7820], val_loss: 6539.6724\n",
      "Epoch [7840], val_loss: 6539.6440\n",
      "Epoch [7860], val_loss: 6539.6147\n",
      "Epoch [7880], val_loss: 6539.5859\n",
      "Epoch [7900], val_loss: 6539.5566\n",
      "Epoch [7920], val_loss: 6539.5273\n",
      "Epoch [7940], val_loss: 6539.4990\n",
      "Epoch [7960], val_loss: 6539.4692\n",
      "Epoch [7980], val_loss: 6539.4409\n",
      "Epoch [8000], val_loss: 6539.4116\n",
      "Epoch [8020], val_loss: 6539.3823\n",
      "Epoch [8040], val_loss: 6539.3530\n",
      "Epoch [8060], val_loss: 6539.3242\n",
      "Epoch [8080], val_loss: 6539.2959\n",
      "Epoch [8100], val_loss: 6539.2676\n",
      "Epoch [8120], val_loss: 6539.2373\n",
      "Epoch [8140], val_loss: 6539.2085\n",
      "Epoch [8160], val_loss: 6539.1797\n",
      "Epoch [8180], val_loss: 6539.1514\n",
      "Epoch [8200], val_loss: 6539.1221\n",
      "Epoch [8220], val_loss: 6539.0928\n",
      "Epoch [8240], val_loss: 6539.0645\n",
      "Epoch [8260], val_loss: 6539.0347\n",
      "Epoch [8280], val_loss: 6539.0049\n",
      "Epoch [8300], val_loss: 6538.9756\n",
      "Epoch [8320], val_loss: 6538.9463\n",
      "Epoch [8340], val_loss: 6538.9170\n",
      "Epoch [8360], val_loss: 6538.8887\n",
      "Epoch [8380], val_loss: 6538.8599\n",
      "Epoch [8400], val_loss: 6538.8306\n",
      "Epoch [8420], val_loss: 6538.8008\n",
      "Epoch [8440], val_loss: 6538.7725\n",
      "Epoch [8460], val_loss: 6538.7432\n",
      "Epoch [8480], val_loss: 6538.7139\n",
      "Epoch [8500], val_loss: 6538.6836\n",
      "Epoch [8520], val_loss: 6538.6553\n",
      "Epoch [8540], val_loss: 6538.6265\n",
      "Epoch [8560], val_loss: 6538.5972\n",
      "Epoch [8580], val_loss: 6538.5674\n",
      "Epoch [8600], val_loss: 6538.5391\n",
      "Epoch [8620], val_loss: 6538.5093\n",
      "Epoch [8640], val_loss: 6538.4805\n",
      "Epoch [8660], val_loss: 6538.4507\n",
      "Epoch [8680], val_loss: 6538.4209\n",
      "Epoch [8700], val_loss: 6538.3906\n",
      "Epoch [8720], val_loss: 6538.3604\n",
      "Epoch [8740], val_loss: 6538.3311\n",
      "Epoch [8760], val_loss: 6538.3008\n",
      "Epoch [8780], val_loss: 6538.2720\n",
      "Epoch [8800], val_loss: 6538.2437\n",
      "Epoch [8820], val_loss: 6538.2139\n",
      "Epoch [8840], val_loss: 6538.1851\n",
      "Epoch [8860], val_loss: 6538.1558\n",
      "Epoch [8880], val_loss: 6538.1270\n",
      "Epoch [8900], val_loss: 6538.0981\n",
      "Epoch [8920], val_loss: 6538.0688\n",
      "Epoch [8940], val_loss: 6538.0405\n",
      "Epoch [8960], val_loss: 6538.0112\n",
      "Epoch [8980], val_loss: 6537.9829\n",
      "Epoch [9000], val_loss: 6537.9531\n",
      "Epoch [9020], val_loss: 6537.9248\n",
      "Epoch [9040], val_loss: 6537.8955\n",
      "Epoch [9060], val_loss: 6537.8667\n",
      "Epoch [9080], val_loss: 6537.8384\n",
      "Epoch [9100], val_loss: 6537.8091\n",
      "Epoch [9120], val_loss: 6537.7803\n",
      "Epoch [9140], val_loss: 6537.7515\n",
      "Epoch [9160], val_loss: 6537.7227\n",
      "Epoch [9180], val_loss: 6537.6934\n",
      "Epoch [9200], val_loss: 6537.6650\n",
      "Epoch [9220], val_loss: 6537.6357\n",
      "Epoch [9240], val_loss: 6537.6074\n",
      "Epoch [9260], val_loss: 6537.5791\n",
      "Epoch [9280], val_loss: 6537.5508\n",
      "Epoch [9300], val_loss: 6537.5210\n",
      "Epoch [9320], val_loss: 6537.4922\n",
      "Epoch [9340], val_loss: 6537.4639\n",
      "Epoch [9360], val_loss: 6537.4336\n",
      "Epoch [9380], val_loss: 6537.4058\n",
      "Epoch [9400], val_loss: 6537.3765\n",
      "Epoch [9420], val_loss: 6537.3477\n",
      "Epoch [9440], val_loss: 6537.3184\n",
      "Epoch [9460], val_loss: 6537.2896\n",
      "Epoch [9480], val_loss: 6537.2612\n",
      "Epoch [9500], val_loss: 6537.2329\n",
      "Epoch [9520], val_loss: 6537.2041\n",
      "Epoch [9540], val_loss: 6537.1753\n",
      "Epoch [9560], val_loss: 6537.1465\n",
      "Epoch [9580], val_loss: 6537.1182\n",
      "Epoch [9600], val_loss: 6537.0884\n",
      "Epoch [9620], val_loss: 6537.0596\n",
      "Epoch [9640], val_loss: 6537.0308\n",
      "Epoch [9660], val_loss: 6537.0010\n",
      "Epoch [9680], val_loss: 6536.9727\n",
      "Epoch [9700], val_loss: 6536.9438\n",
      "Epoch [9720], val_loss: 6536.9150\n",
      "Epoch [9740], val_loss: 6536.8862\n",
      "Epoch [9760], val_loss: 6536.8574\n",
      "Epoch [9780], val_loss: 6536.8286\n",
      "Epoch [9800], val_loss: 6536.8003\n",
      "Epoch [9820], val_loss: 6536.7710\n",
      "Epoch [9840], val_loss: 6536.7422\n",
      "Epoch [9860], val_loss: 6536.7134\n",
      "Epoch [9880], val_loss: 6536.6841\n",
      "Epoch [9900], val_loss: 6536.6548\n",
      "Epoch [9920], val_loss: 6536.6260\n",
      "Epoch [9940], val_loss: 6536.5972\n",
      "Epoch [9960], val_loss: 6536.5674\n",
      "Epoch [9980], val_loss: 6536.5391\n",
      "Epoch [10000], val_loss: 6536.5103\n"
     ]
    }
   ],
   "source": [
    "epochs = 10000\n",
    "lr = 1e-6\n",
    "history5 = fit(epochs, lr, model, train_loader, val_loader)"
   ]
  },
  {
   "cell_type": "code",
   "execution_count": 126,
   "metadata": {
    "colab": {
     "base_uri": "https://localhost:8080/",
     "height": 312
    },
    "executionInfo": {
     "elapsed": 1363,
     "status": "ok",
     "timestamp": 1606961637001,
     "user": {
      "displayName": "Rajib Bhagat",
      "photoUrl": "https://lh3.googleusercontent.com/a-/AOh14Gjk9xRqLB3KIz_Kf-zSFyEvP0rQ0KIWfvO-pWKXNQ=s64",
      "userId": "05375747577393173060"
     },
     "user_tz": -330
    },
    "id": "NdOoqM85Vpa5",
    "outputId": "9cdd0705-4932-467c-e46f-617d2e1e514b"
   },
   "outputs": [
    {
     "data": {
      "text/plain": [
       "Text(0.5, 1.0, 'Val_loss vs. epochs')"
      ]
     },
     "execution_count": 126,
     "metadata": {
      "tags": []
     },
     "output_type": "execute_result"
    },
    {
     "data": {
      "image/png": "[encoded data removed]",
      "text/plain": [
       "<Figure size 432x288 with 1 Axes>"
      ]
     },
     "metadata": {
      "needs_background": "light",
      "tags": []
     },
     "output_type": "display_data"
    }
   ],
   "source": [
    "loss6 = []\n",
    "for value in history5:\n",
    "    loss6.append(value['val_loss'])\n",
    "plt.plot(loss6)\n",
    "plt.xlabel('epochs')\n",
    "plt.ylabel('val_loss')\n",
    "plt.title('Val_loss vs. epochs')"
   ]
  },
  {
   "cell_type": "markdown",
   "metadata": {
    "id": "_AAmBUQlWdK8"
   },
   "source": [
    "**Q: What is the final validation loss of your model?**"
   ]
  },
  {
   "cell_type": "code",
   "execution_count": 127,
   "metadata": {
    "colab": {
     "base_uri": "https://localhost:8080/"
    },
    "executionInfo": {
     "elapsed": 1173,
     "status": "ok",
     "timestamp": 1606961643066,
     "user": {
      "displayName": "Rajib Bhagat",
      "photoUrl": "https://lh3.googleusercontent.com/a-/AOh14Gjk9xRqLB3KIz_Kf-zSFyEvP0rQ0KIWfvO-pWKXNQ=s64",
      "userId": "05375747577393173060"
     },
     "user_tz": -330
    },
    "id": "umRNt4B0WdK8",
    "outputId": "6940a004-4867-46cd-94e1-6782f4ca975e"
   },
   "outputs": [
    {
     "data": {
      "text/plain": [
       "{'val_loss': 6536.51025390625}"
      ]
     },
     "execution_count": 127,
     "metadata": {
      "tags": []
     },
     "output_type": "execute_result"
    }
   ],
   "source": [
    "val_loss = evaluate(model, val_loader)\n",
    "val_loss"
   ]
  },
  {
   "cell_type": "markdown",
   "metadata": {
    "id": "zaX-brWrWdK8"
   },
   "source": [
    "Let's log the final validation loss to Jovian and commit the notebook"
   ]
  },
  {
   "cell_type": "code",
   "execution_count": 128,
   "metadata": {
    "colab": {
     "base_uri": "https://localhost:8080/"
    },
    "executionInfo": {
     "elapsed": 1359,
     "status": "ok",
     "timestamp": 1606961647791,
     "user": {
      "displayName": "Rajib Bhagat",
      "photoUrl": "https://lh3.googleusercontent.com/a-/AOh14Gjk9xRqLB3KIz_Kf-zSFyEvP0rQ0KIWfvO-pWKXNQ=s64",
      "userId": "05375747577393173060"
     },
     "user_tz": -330
    },
    "id": "5q55ILp9WdK8",
    "outputId": "c79a75e5-0539-4c0a-e0a0-b6d0850bc315"
   },
   "outputs": [
    {
     "name": "stdout",
     "output_type": "stream",
     "text": [
      "[jovian] Metrics logged.\u001b[0m\n"
     ]
    }
   ],
   "source": [
    "jovian.log_metrics(val_loss=val_loss)"
   ]
  },
  {
   "cell_type": "code",
   "execution_count": 129,
   "metadata": {
    "colab": {
     "base_uri": "https://localhost:8080/",
     "height": 103
    },
    "executionInfo": {
     "elapsed": 3425,
     "status": "ok",
     "timestamp": 1606961652419,
     "user": {
      "displayName": "Rajib Bhagat",
      "photoUrl": "https://lh3.googleusercontent.com/a-/AOh14Gjk9xRqLB3KIz_Kf-zSFyEvP0rQ0KIWfvO-pWKXNQ=s64",
      "userId": "05375747577393173060"
     },
     "user_tz": -330
    },
    "id": "N4RnoMNzWdK9",
    "outputId": "73d7eb79-e266-4cc1-ea80-ceaf74345047"
   },
   "outputs": [
    {
     "name": "stdout",
     "output_type": "stream",
     "text": [
      "[jovian] Detected Colab notebook...\u001b[0m\n",
      "[jovian] Uploading colab notebook to Jovian...\u001b[0m\n",
      "[jovian] Attaching records (metrics, hyperparameters, dataset etc.)\u001b[0m\n",
      "[jovian] Committed successfully! https://jovian.ai/rajibdasbhagat/02-insurance-linear-regression\u001b[0m\n"
     ]
    },
    {
     "data": {
      "application/vnd.google.colaboratory.intrinsic+json": {
       "type": "string"
      },
      "text/plain": [
       "'https://jovian.ai/rajibdasbhagat/02-insurance-linear-regression'"
      ]
     },
     "execution_count": 129,
     "metadata": {
      "tags": []
     },
     "output_type": "execute_result"
    }
   ],
   "source": [
    "jovian.commit(project=project_name, environment=None)"
   ]
  },
  {
   "cell_type": "markdown",
   "metadata": {
    "id": "WZdvWmB5WdK9"
   },
   "source": [
    "Now scroll back up, re-initialize the model, and try different set of values for batch size, number of epochs, learning rate etc. Commit each experiment and use the \"Compare\" and \"View Diff\" options on Jovian to compare the different results."
   ]
  },
  {
   "cell_type": "markdown",
   "metadata": {
    "id": "Q6EJUnJ2WdK9"
   },
   "source": [
    "## Step 5: Make predictions using the trained model\n",
    "\n",
    "**Q: Complete the following function definition to make predictions on a single input**"
   ]
  },
  {
   "cell_type": "code",
   "execution_count": 130,
   "metadata": {
    "executionInfo": {
     "elapsed": 1559,
     "status": "ok",
     "timestamp": 1606961656813,
     "user": {
      "displayName": "Rajib Bhagat",
      "photoUrl": "https://lh3.googleusercontent.com/a-/AOh14Gjk9xRqLB3KIz_Kf-zSFyEvP0rQ0KIWfvO-pWKXNQ=s64",
      "userId": "05375747577393173060"
     },
     "user_tz": -330
    },
    "id": "-e52jJP1WdK9"
   },
   "outputs": [],
   "source": [
    "def predict_single(input, target, model):\n",
    "    inputs = input.unsqueeze(0)\n",
    "    predictions = model(inputs)                # fill this\n",
    "    prediction = predictions[0].detach()\n",
    "    print(\"Input:\", input)\n",
    "    print(\"Target:\", target)\n",
    "    print(\"Prediction:\", prediction)"
   ]
  },
  {
   "cell_type": "code",
   "execution_count": 135,
   "metadata": {
    "colab": {
     "base_uri": "https://localhost:8080/"
    },
    "executionInfo": {
     "elapsed": 1059,
     "status": "ok",
     "timestamp": 1606961702647,
     "user": {
      "displayName": "Rajib Bhagat",
      "photoUrl": "https://lh3.googleusercontent.com/a-/AOh14Gjk9xRqLB3KIz_Kf-zSFyEvP0rQ0KIWfvO-pWKXNQ=s64",
      "userId": "05375747577393173060"
     },
     "user_tz": -330
    },
    "id": "Udw0W4nKWdK9",
    "outputId": "d10451b0-bca1-4893-ffff-97e30cde1665"
   },
   "outputs": [
    {
     "name": "stdout",
     "output_type": "stream",
     "text": [
      "Input: tensor([41.0000,  1.0000, 21.1266,  1.0000,  0.0000])\n",
      "Target: tensor([6648.8257])\n",
      "Prediction: tensor([8784.3086])\n"
     ]
    }
   ],
   "source": [
    "input, target = val_ds[10]\n",
    "predict_single(input, target, model)"
   ]
  },
  {
   "cell_type": "code",
   "execution_count": 136,
   "metadata": {
    "colab": {
     "base_uri": "https://localhost:8080/"
    },
    "executionInfo": {
     "elapsed": 1093,
     "status": "ok",
     "timestamp": 1606961715049,
     "user": {
      "displayName": "Rajib Bhagat",
      "photoUrl": "https://lh3.googleusercontent.com/a-/AOh14Gjk9xRqLB3KIz_Kf-zSFyEvP0rQ0KIWfvO-pWKXNQ=s64",
      "userId": "05375747577393173060"
     },
     "user_tz": -330
    },
    "id": "wr8rbPoGWdK9",
    "outputId": "9a823252-2775-4603-e8d9-912b52286859"
   },
   "outputs": [
    {
     "name": "stdout",
     "output_type": "stream",
     "text": [
      "Input: tensor([19.0000,  0.0000, 29.1194,  0.0000,  1.0000])\n",
      "Target: tensor([35306.0039])\n",
      "Prediction: tensor([4096.1963])\n"
     ]
    }
   ],
   "source": [
    "input, target = val_ds[20]\n",
    "predict_single(input, target, model)"
   ]
  },
  {
   "cell_type": "code",
   "execution_count": 137,
   "metadata": {
    "colab": {
     "base_uri": "https://localhost:8080/"
    },
    "executionInfo": {
     "elapsed": 1191,
     "status": "ok",
     "timestamp": 1606961727646,
     "user": {
      "displayName": "Rajib Bhagat",
      "photoUrl": "https://lh3.googleusercontent.com/a-/AOh14Gjk9xRqLB3KIz_Kf-zSFyEvP0rQ0KIWfvO-pWKXNQ=s64",
      "userId": "05375747577393173060"
     },
     "user_tz": -330
    },
    "id": "MSVBtLMAWdK9",
    "outputId": "70c3ac28-39b8-4c93-abd9-413b37ff049b"
   },
   "outputs": [
    {
     "name": "stdout",
     "output_type": "stream",
     "text": [
      "Input: tensor([19.0000,  0.0000, 31.1467,  0.0000,  0.0000])\n",
      "Target: tensor([2258.5164])\n",
      "Prediction: tensor([4090.2588])\n"
     ]
    }
   ],
   "source": [
    "input, target = val_ds[30]\n",
    "predict_single(input, target, model)"
   ]
  },
  {
   "cell_type": "code",
   "execution_count": 143,
   "metadata": {
    "colab": {
     "base_uri": "https://localhost:8080/"
    },
    "executionInfo": {
     "elapsed": 1095,
     "status": "ok",
     "timestamp": 1606962886118,
     "user": {
      "displayName": "Rajib Bhagat",
      "photoUrl": "https://lh3.googleusercontent.com/a-/AOh14Gjk9xRqLB3KIz_Kf-zSFyEvP0rQ0KIWfvO-pWKXNQ=s64",
      "userId": "05375747577393173060"
     },
     "user_tz": -330
    },
    "id": "nCgNy3VJbmvD",
    "outputId": "0db53907-6adf-484e-997a-cbd7747b59f1"
   },
   "outputs": [
    {
     "name": "stdout",
     "output_type": "stream",
     "text": [
      "Input: tensor([61.0000,  0.0000, 32.3301,  4.0000,  0.0000])\n",
      "Target: tensor([38775.0977])\n",
      "Prediction: tensor([13087.6035])\n",
      "---------------------------\n",
      "Input: tensor([23.0000,  1.0000, 35.9870,  3.0000,  0.0000])\n",
      "Target: tensor([3813.4517])\n",
      "Prediction: tensor([4967.9902])\n",
      "---------------------------\n",
      "Input: tensor([18.0000,  1.0000, 33.0770,  0.0000,  0.0000])\n",
      "Target: tensor([1205.2317])\n",
      "Prediction: tensor([3877.9246])\n",
      "---------------------------\n",
      "Input: tensor([34.0000,  0.0000, 18.4300,  3.0000,  0.0000])\n",
      "Target: tensor([7158.2202])\n",
      "Prediction: tensor([7299.8726])\n",
      "---------------------------\n",
      "Input: tensor([41.0000,  1.0000, 23.2218,  1.0000,  0.0000])\n",
      "Target: tensor([7269.9883])\n",
      "Prediction: tensor([8786.4961])\n",
      "---------------------------\n",
      "Input: tensor([56.0000,  1.0000, 31.1467,  1.0000,  0.0000])\n",
      "Target: tensor([12468.7812])\n",
      "Prediction: tensor([11998.5781])\n",
      "---------------------------\n",
      "Input: tensor([60.0000,  1.0000, 23.5904,  1.0000,  0.0000])\n",
      "Target: tensor([13899.3613])\n",
      "Prediction: tensor([12845.0342])\n",
      "---------------------------\n",
      "Input: tensor([63.0000,  0.0000, 22.3925,  0.0000,  0.0000])\n",
      "Target: tensor([15318.9453])\n",
      "Prediction: tensor([13478.9424])\n",
      "---------------------------\n",
      "Input: tensor([63.0000,  0.0000, 21.0102,  0.0000,  0.0000])\n",
      "Target: tensor([15316.8457])\n",
      "Prediction: tensor([13477.4990])\n",
      "---------------------------\n",
      "Input: tensor([23.0000,  0.0000, 22.4846,  2.0000,  0.0000])\n",
      "Target: tensor([15291.6387])\n",
      "Prediction: tensor([4948.2871])\n",
      "---------------------------\n"
     ]
    }
   ],
   "source": [
    "for i in range(10):\n",
    "    input, target = val_ds[i]\n",
    "    predict_single(input, target, model)\n",
    "    print(\"---------------------------\")"
   ]
  },
  {
   "cell_type": "markdown",
   "metadata": {
    "id": "UhPvFPHgWdK-"
   },
   "source": [
    "Are you happy with your model's predictions? Try to improve them further."
   ]
  },
  {
   "cell_type": "markdown",
   "metadata": {
    "id": "QeUOAXWSWdK-"
   },
   "source": [
    "## (Optional) Step 6: Try another dataset\n",
    "Here are some sources to find good datasets:\n",
    "\n",
    "- https://lionbridge.ai/datasets/10-open-datasets-for-linear-regression/\n",
    "- https://www.kaggle.com/rtatman/datasets-for-regression-analysis\n",
    "- https://archive.ics.uci.edu/ml/datasets.php?format=&task=reg&att=&area=&numAtt=&numIns=&type=&sort=nameUp&view=table\n",
    "- https://people.sc.fsu.edu/~jburkardt/datasets/regression/regression.html\n",
    "- https://archive.ics.uci.edu/ml/datasets/wine+quality\n",
    "- https://pytorch.org/docs/stable/torchvision/datasets.html"
   ]
  },
  {
   "cell_type": "code",
   "execution_count": 151,
   "metadata": {
    "colab": {
     "base_uri": "https://localhost:8080/"
    },
    "executionInfo": {
     "elapsed": 1164,
     "status": "ok",
     "timestamp": 1606963310986,
     "user": {
      "displayName": "Rajib Bhagat",
      "photoUrl": "https://lh3.googleusercontent.com/a-/AOh14Gjk9xRqLB3KIz_Kf-zSFyEvP0rQ0KIWfvO-pWKXNQ=s64",
      "userId": "05375747577393173060"
     },
     "user_tz": -330
    },
    "id": "RA5L-j5d_wrX",
    "outputId": "ce60f1c1-aa5d-42d8-80b0-27e0253bd38f"
   },
   "outputs": [
    {
     "name": "stdout",
     "output_type": "stream",
     "text": [
      "Help on package jovian:\n",
      "\n",
      "NAME\n",
      "    jovian\n",
      "\n",
      "PACKAGE CONTENTS\n",
      "    __main__\n",
      "    _flavor\n",
      "    _version\n",
      "    callbacks (package)\n",
      "    utils (package)\n",
      "\n",
      "VERSION\n",
      "    0.2.26\n",
      "\n",
      "FILE\n",
      "    /usr/local/lib/python3.6/dist-packages/jovian/__init__.py\n",
      "\n",
      "\n",
      "None\n"
     ]
    },
    {
     "data": {
      "text/plain": [
       "['__builtins__',\n",
       " '__cached__',\n",
       " '__doc__',\n",
       " '__file__',\n",
       " '__loader__',\n",
       " '__name__',\n",
       " '__package__',\n",
       " '__path__',\n",
       " '__spec__',\n",
       " '__version__',\n",
       " '_flavor',\n",
       " '_initialize_jovian',\n",
       " '_version',\n",
       " 'commit',\n",
       " 'configure',\n",
       " 'get_records',\n",
       " 'log_dataset',\n",
       " 'log_git',\n",
       " 'log_hyperparams',\n",
       " 'log_metrics',\n",
       " 'notify',\n",
       " 'reset',\n",
       " 'reset_config',\n",
       " 'submit',\n",
       " 'utils',\n",
       " 'version']"
      ]
     },
     "execution_count": 151,
     "metadata": {
      "tags": []
     },
     "output_type": "execute_result"
    }
   ],
   "source": [
    "print(help(jovian))\n",
    "dir(jovian)"
   ]
  },
  {
   "cell_type": "code",
   "execution_count": 145,
   "metadata": {
    "colab": {
     "base_uri": "https://localhost:8080/"
    },
    "executionInfo": {
     "elapsed": 1284,
     "status": "ok",
     "timestamp": 1606962965929,
     "user": {
      "displayName": "Rajib Bhagat",
      "photoUrl": "https://lh3.googleusercontent.com/a-/AOh14Gjk9xRqLB3KIz_Kf-zSFyEvP0rQ0KIWfvO-pWKXNQ=s64",
      "userId": "05375747577393173060"
     },
     "user_tz": -330
    },
    "id": "Gqp0WqY2UMjQ",
    "outputId": "16080318-c3e1-4c0e-f05e-5dc422d7f178"
   },
   "outputs": [
    {
     "name": "stdout",
     "output_type": "stream",
     "text": [
      "[('7fd47699d1ac4b829b8c1f47f3877bd8', 'metrics', {'val_loss': {'val_loss': 7263.2646484375}}), ('4d843de4072e4339b01994a73b9474ee', 'metrics', {'val_loss': {'val_loss': 6550.7431640625}}), ('2f95c815790b4bc38dd6df18eaca71e7', 'metrics', {'val_loss': {'val_loss': 6536.51025390625}})]\n"
     ]
    }
   ],
   "source": [
    "print(jovian.get_records())"
   ]
  },
  {
   "cell_type": "code",
   "execution_count": null,
   "metadata": {
    "id": "94t4xlTKWdK-"
   },
   "outputs": [],
   "source": [
    "jovian.commit(project=project_name)"
   ]
  },
  {
   "cell_type": "code",
   "execution_count": null,
   "metadata": {
    "id": "6jztrxLAeILZ"
   },
   "outputs": [],
   "source": []
  }
 ],
 "metadata": {
  "colab": {
   "collapsed_sections": [],
   "name": "02-insurance-linear.ipynb",
   "provenance": []
  },
  "kernelspec": {
   "display_name": "Python 3",
   "language": "python",
   "name": "python3"
  },
  "language_info": {
   "codemirror_mode": {
    "name": "ipython",
    "version": 3
   },
   "file_extension": ".py",
   "mimetype": "text/x-python",
   "name": "python",
   "nbconvert_exporter": "python",
   "pygments_lexer": "ipython3",
   "version": "3.8.5"
  },
  "widgets": {
   "application/vnd.jupyter.widget-state+json": {
    "1aa2c4329d144657a83ddf43acf270f0": {
     "model_module": "@jupyter-widgets/base",
     "model_name": "LayoutModel",
     "state": {
      "_model_module": "@jupyter-widgets/base",
      "_model_module_version": "1.2.0",
      "_model_name": "LayoutModel",
      "_view_count": null,
      "_view_module": "@jupyter-widgets/base",
      "_view_module_version": "1.2.0",
      "_view_name": "LayoutView",
      "align_content": null,
      "align_items": null,
      "align_self": null,
      "border": null,
      "bottom": null,
      "display": null,
      "flex": null,
      "flex_flow": null,
      "grid_area": null,
      "grid_auto_columns": null,
      "grid_auto_flow": null,
      "grid_auto_rows": null,
      "grid_column": null,
      "grid_gap": null,
      "grid_row": null,
      "grid_template_areas": null,
      "grid_template_columns": null,
      "grid_template_rows": null,
      "height": null,
      "justify_content": null,
      "justify_items": null,
      "left": null,
      "margin": null,
      "max_height": null,
      "max_width": null,
      "min_height": null,
      "min_width": null,
      "object_fit": null,
      "object_position": null,
      "order": null,
      "overflow": null,
      "overflow_x": null,
      "overflow_y": null,
      "padding": null,
      "right": null,
      "top": null,
      "visibility": null,
      "width": null
     }
    },
    "3033b80c0d414b7fb97066c7eb7ba580": {
     "model_module": "@jupyter-widgets/controls",
     "model_name": "HTMLModel",
     "state": {
      "_dom_classes": [],
      "_model_module": "@jupyter-widgets/controls",
      "_model_module_version": "1.5.0",
      "_model_name": "HTMLModel",
      "_view_count": null,
      "_view_module": "@jupyter-widgets/controls",
      "_view_module_version": "1.5.0",
      "_view_name": "HTMLView",
      "description": "",
      "description_tooltip": null,
      "layout": "IPY_MODEL_1aa2c4329d144657a83ddf43acf270f0",
      "placeholder": "​",
      "style": "IPY_MODEL_e158dfee4df8490697b78b6a135444db",
      "value": " 57344/? [00:20&lt;00:00, 138923.63it/s]"
     }
    },
    "4ad91cf58712494889f972258623db7f": {
     "model_module": "@jupyter-widgets/base",
     "model_name": "LayoutModel",
     "state": {
      "_model_module": "@jupyter-widgets/base",
      "_model_module_version": "1.2.0",
      "_model_name": "LayoutModel",
      "_view_count": null,
      "_view_module": "@jupyter-widgets/base",
      "_view_module_version": "1.2.0",
      "_view_name": "LayoutView",
      "align_content": null,
      "align_items": null,
      "align_self": null,
      "border": null,
      "bottom": null,
      "display": null,
      "flex": null,
      "flex_flow": null,
      "grid_area": null,
      "grid_auto_columns": null,
      "grid_auto_flow": null,
      "grid_auto_rows": null,
      "grid_column": null,
      "grid_gap": null,
      "grid_row": null,
      "grid_template_areas": null,
      "grid_template_columns": null,
      "grid_template_rows": null,
      "height": null,
      "justify_content": null,
      "justify_items": null,
      "left": null,
      "margin": null,
      "max_height": null,
      "max_width": null,
      "min_height": null,
      "min_width": null,
      "object_fit": null,
      "object_position": null,
      "order": null,
      "overflow": null,
      "overflow_x": null,
      "overflow_y": null,
      "padding": null,
      "right": null,
      "top": null,
      "visibility": null,
      "width": null
     }
    },
    "4cdab92c08c4478683758215dd0f3d17": {
     "model_module": "@jupyter-widgets/base",
     "model_name": "LayoutModel",
     "state": {
      "_model_module": "@jupyter-widgets/base",
      "_model_module_version": "1.2.0",
      "_model_name": "LayoutModel",
      "_view_count": null,
      "_view_module": "@jupyter-widgets/base",
      "_view_module_version": "1.2.0",
      "_view_name": "LayoutView",
      "align_content": null,
      "align_items": null,
      "align_self": null,
      "border": null,
      "bottom": null,
      "display": null,
      "flex": null,
      "flex_flow": null,
      "grid_area": null,
      "grid_auto_columns": null,
      "grid_auto_flow": null,
      "grid_auto_rows": null,
      "grid_column": null,
      "grid_gap": null,
      "grid_row": null,
      "grid_template_areas": null,
      "grid_template_columns": null,
      "grid_template_rows": null,
      "height": null,
      "justify_content": null,
      "justify_items": null,
      "left": null,
      "margin": null,
      "max_height": null,
      "max_width": null,
      "min_height": null,
      "min_width": null,
      "object_fit": null,
      "object_position": null,
      "order": null,
      "overflow": null,
      "overflow_x": null,
      "overflow_y": null,
      "padding": null,
      "right": null,
      "top": null,
      "visibility": null,
      "width": null
     }
    },
    "b9981c7e6a2b419eb52f836ed7d1fa21": {
     "model_module": "@jupyter-widgets/controls",
     "model_name": "ProgressStyleModel",
     "state": {
      "_model_module": "@jupyter-widgets/controls",
      "_model_module_version": "1.5.0",
      "_model_name": "ProgressStyleModel",
      "_view_count": null,
      "_view_module": "@jupyter-widgets/base",
      "_view_module_version": "1.2.0",
      "_view_name": "StyleView",
      "bar_color": null,
      "description_width": "initial"
     }
    },
    "cad9b0d83f92458bb89cb15237125309": {
     "model_module": "@jupyter-widgets/controls",
     "model_name": "HBoxModel",
     "state": {
      "_dom_classes": [],
      "_model_module": "@jupyter-widgets/controls",
      "_model_module_version": "1.5.0",
      "_model_name": "HBoxModel",
      "_view_count": null,
      "_view_module": "@jupyter-widgets/controls",
      "_view_module_version": "1.5.0",
      "_view_name": "HBoxView",
      "box_style": "",
      "children": [
       "IPY_MODEL_ccb061c58ef94b739132a7f1b016e62e",
       "IPY_MODEL_3033b80c0d414b7fb97066c7eb7ba580"
      ],
      "layout": "IPY_MODEL_4ad91cf58712494889f972258623db7f"
     }
    },
    "ccb061c58ef94b739132a7f1b016e62e": {
     "model_module": "@jupyter-widgets/controls",
     "model_name": "FloatProgressModel",
     "state": {
      "_dom_classes": [],
      "_model_module": "@jupyter-widgets/controls",
      "_model_module_version": "1.5.0",
      "_model_name": "FloatProgressModel",
      "_view_count": null,
      "_view_module": "@jupyter-widgets/controls",
      "_view_module_version": "1.5.0",
      "_view_name": "ProgressView",
      "bar_style": "info",
      "description": "",
      "description_tooltip": null,
      "layout": "IPY_MODEL_4cdab92c08c4478683758215dd0f3d17",
      "max": 1,
      "min": 0,
      "orientation": "horizontal",
      "style": "IPY_MODEL_b9981c7e6a2b419eb52f836ed7d1fa21",
      "value": 1
     }
    },
    "e158dfee4df8490697b78b6a135444db": {
     "model_module": "@jupyter-widgets/controls",
     "model_name": "DescriptionStyleModel",
     "state": {
      "_model_module": "@jupyter-widgets/controls",
      "_model_module_version": "1.5.0",
      "_model_name": "DescriptionStyleModel",
      "_view_count": null,
      "_view_module": "@jupyter-widgets/base",
      "_view_module_version": "1.2.0",
      "_view_name": "StyleView",
      "description_width": ""
     }
    }
   }
  }
 },
 "nbformat": 4,
 "nbformat_minor": 0
}