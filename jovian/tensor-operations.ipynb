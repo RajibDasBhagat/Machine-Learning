{
 "cells": [
  {
   "cell_type": "markdown",
   "metadata": {
    "id": "39S3_lchEKju"
   },
   "source": [
    "# Introduction to PyTorch and Tensor Operations.\n",
    "\n",
    "A PyTorch Tensor is basically similar to a numpy array. PyTorch is an optimized tensor library for deep learning using GPUs and CPUs.\n",
    "\n",
    "A Tensor is an n-dimensional array, and it provides many functions for operating on these Tensors. Main take away is that Tensors can keep track of a computational graph and gradients, but they’re also useful as a generic tool for scientific computing, while numpy is slow and can't be used for back-propogation and updation of required matrices.\n",
    "\n",
    "Few of the tensor functions are provided below: \n",
    "\n",
    "- tensor()\n",
    "- view()\n",
    "- permute()\n",
    "- flatten()\n",
    "- item() \n",
    "\n",
    "Before we begin, let's install and import PyTorch"
   ]
  },
  {
   "cell_type": "code",
   "execution_count": null,
   "metadata": {
    "colab": {
     "base_uri": "https://localhost:8080/"
    },
    "executionInfo": {
     "elapsed": 6407,
     "status": "ok",
     "timestamp": 1606301327278,
     "user": {
      "displayName": "Rajib Bhagat",
      "photoUrl": "https://lh3.googleusercontent.com/a-/AOh14Gjk9xRqLB3KIz_Kf-zSFyEvP0rQ0KIWfvO-pWKXNQ=s64",
      "userId": "05375747577393173060"
     },
     "user_tz": -330
    },
    "id": "pt65U79dEKju",
    "outputId": "24b3a8e8-3bc3-4a2d-f69c-d047fba9fb01"
   },
   "outputs": [
    {
     "name": "stdout",
     "output_type": "stream",
     "text": [
      "Looking in links: https://download.pytorch.org/whl/torch_stable.html\n",
      "Requirement already satisfied: numpy in /usr/local/lib/python3.6/dist-packages (1.18.5)\n",
      "Requirement already satisfied: torch==1.7.0+cpu in /usr/local/lib/python3.6/dist-packages (1.7.0+cpu)\n",
      "Requirement already satisfied: torchvision==0.8.1+cpu in /usr/local/lib/python3.6/dist-packages (0.8.1+cpu)\n",
      "Requirement already satisfied: torchaudio==0.7.0 in /usr/local/lib/python3.6/dist-packages (0.7.0)\n",
      "Requirement already satisfied: dataclasses in /usr/local/lib/python3.6/dist-packages (from torch==1.7.0+cpu) (0.8)\n",
      "Requirement already satisfied: future in /usr/local/lib/python3.6/dist-packages (from torch==1.7.0+cpu) (0.16.0)\n",
      "Requirement already satisfied: typing-extensions in /usr/local/lib/python3.6/dist-packages (from torch==1.7.0+cpu) (3.7.4.3)\n",
      "Requirement already satisfied: pillow>=4.1.1 in /usr/local/lib/python3.6/dist-packages (from torchvision==0.8.1+cpu) (7.0.0)\n"
     ]
    }
   ],
   "source": [
    "# installation for Windows\n",
    "!pip install numpy torch==1.7.0+cpu torchvision==0.8.1+cpu torchaudio==0.7.0 -f https://download.pytorch.org/whl/torch_stable.html\n"
   ]
  },
  {
   "cell_type": "code",
   "execution_count": 2,
   "metadata": {
    "executionInfo": {
     "elapsed": 4803,
     "status": "ok",
     "timestamp": 1606310535046,
     "user": {
      "displayName": "Rajib Bhagat",
      "photoUrl": "https://lh3.googleusercontent.com/a-/AOh14Gjk9xRqLB3KIz_Kf-zSFyEvP0rQ0KIWfvO-pWKXNQ=s64",
      "userId": "05375747577393173060"
     },
     "user_tz": -330
    },
    "id": "a-yOmWjoEKjx"
   },
   "outputs": [],
   "source": [
    "# Import torch and other required modules\n",
    "import torch\n",
    "import numpy as np\n",
    "import jovian"
   ]
  },
  {
   "cell_type": "markdown",
   "metadata": {
    "id": "jEPQB5aBEKjx"
   },
   "source": [
    "## Function 1 - torch.tensor()\n",
    "\n",
    "A tensor can be constructed from a Python list or sequence using the torch.tensor() constructor. torch.Tensor is an alias for the default tensor type (torch.FloatTensor).\n"
   ]
  },
  {
   "cell_type": "code",
   "execution_count": 3,
   "metadata": {
    "colab": {
     "base_uri": "https://localhost:8080/"
    },
    "executionInfo": {
     "elapsed": 2272,
     "status": "ok",
     "timestamp": 1606310543693,
     "user": {
      "displayName": "Rajib Bhagat",
      "photoUrl": "https://lh3.googleusercontent.com/a-/AOh14Gjk9xRqLB3KIz_Kf-zSFyEvP0rQ0KIWfvO-pWKXNQ=s64",
      "userId": "05375747577393173060"
     },
     "user_tz": -330
    },
    "id": "oDY_4xu9EKjx",
    "outputId": "dcef4dee-0122-431a-a91c-fa85e6cf5fa1"
   },
   "outputs": [
    {
     "data": {
      "text/plain": [
       "tensor([[ 1.,  2.,  3.,  4.],\n",
       "        [ 5.,  6.,  7.,  8.],\n",
       "        [ 9., 10., 11., 12.]], dtype=torch.float64)"
      ]
     },
     "execution_count": 3,
     "metadata": {
      "tags": []
     },
     "output_type": "execute_result"
    }
   ],
   "source": [
    "# Example 1 - working \n",
    "arr1 = [[1.,2 ,3, 4],\n",
    "        [5 ,6 ,7, 8],\n",
    "        [9, 10, 11, 12 ]]\n",
    "#print(arr1)        \n",
    "np_arr = np.array(arr1)\n",
    "#print(np_arr)\n",
    "ex1 = torch.tensor(np_arr)\n",
    "ex1 "
   ]
  },
  {
   "cell_type": "markdown",
   "metadata": {
    "id": "JPyUmeUiEKjx"
   },
   "source": [
    "Returns a non-empty tensor which is transformed from matrix to numpy array and then to tensor."
   ]
  },
  {
   "cell_type": "code",
   "execution_count": 4,
   "metadata": {
    "colab": {
     "base_uri": "https://localhost:8080/"
    },
    "executionInfo": {
     "elapsed": 6490,
     "status": "ok",
     "timestamp": 1606310552980,
     "user": {
      "displayName": "Rajib Bhagat",
      "photoUrl": "https://lh3.googleusercontent.com/a-/AOh14Gjk9xRqLB3KIz_Kf-zSFyEvP0rQ0KIWfvO-pWKXNQ=s64",
      "userId": "05375747577393173060"
     },
     "user_tz": -330
    },
    "id": "NkjyxaugEKjx",
    "outputId": "1902529a-9f83-4fec-873a-dfaed4b341ee"
   },
   "outputs": [
    {
     "data": {
      "text/plain": [
       "tensor([[ 1.,  2.,  3.,  4.],\n",
       "        [ 5.,  6.,  7.,  8.],\n",
       "        [ 9., 10., 11., 12.]])"
      ]
     },
     "execution_count": 4,
     "metadata": {
      "tags": []
     },
     "output_type": "execute_result"
    }
   ],
   "source": [
    "# Example 2 - working\n",
    "ex2 = torch.tensor(arr1)\n",
    "ex2        "
   ]
  },
  {
   "cell_type": "markdown",
   "metadata": {
    "id": "1fNvMJgdEKjx"
   },
   "source": [
    "Returns a non-empty tensor from a matrix which is converted to tensor."
   ]
  },
  {
   "cell_type": "code",
   "execution_count": 5,
   "metadata": {
    "colab": {
     "base_uri": "https://localhost:8080/",
     "height": 214
    },
    "executionInfo": {
     "elapsed": 2484,
     "status": "error",
     "timestamp": 1606310557402,
     "user": {
      "displayName": "Rajib Bhagat",
      "photoUrl": "https://lh3.googleusercontent.com/a-/AOh14Gjk9xRqLB3KIz_Kf-zSFyEvP0rQ0KIWfvO-pWKXNQ=s64",
      "userId": "05375747577393173060"
     },
     "user_tz": -330
    },
    "id": "26qp6RryEKjx",
    "outputId": "a891e3cc-ce30-44d0-8916-791309d22adf"
   },
   "outputs": [
    {
     "ename": "ValueError",
     "evalue": "ignored",
     "output_type": "error",
     "traceback": [
      "\u001b[0;31m---------------------------------------------------------------------------\u001b[0m",
      "\u001b[0;31mValueError\u001b[0m                                Traceback (most recent call last)",
      "\u001b[0;32m<ipython-input-5-ce4df8fc0394>\u001b[0m in \u001b[0;36m<module>\u001b[0;34m()\u001b[0m\n\u001b[1;32m      3\u001b[0m         \u001b[0;34m[\u001b[0m\u001b[0;36m5\u001b[0m \u001b[0;34m,\u001b[0m\u001b[0;36m6\u001b[0m \u001b[0;34m]\u001b[0m\u001b[0;34m,\u001b[0m\u001b[0;34m\u001b[0m\u001b[0;34m\u001b[0m\u001b[0m\n\u001b[1;32m      4\u001b[0m         [9, 10, 11, 12 ]]\n\u001b[0;32m----> 5\u001b[0;31m \u001b[0mex3\u001b[0m \u001b[0;34m=\u001b[0m \u001b[0mtorch\u001b[0m\u001b[0;34m.\u001b[0m\u001b[0mtensor\u001b[0m\u001b[0;34m(\u001b[0m\u001b[0marr2\u001b[0m\u001b[0;34m)\u001b[0m\u001b[0;34m\u001b[0m\u001b[0;34m\u001b[0m\u001b[0m\n\u001b[0m\u001b[1;32m      6\u001b[0m \u001b[0mex3\u001b[0m\u001b[0;34m\u001b[0m\u001b[0;34m\u001b[0m\u001b[0m\n",
      "\u001b[0;31mValueError\u001b[0m: expected sequence of length 3 at dim 1 (got 2)"
     ]
    }
   ],
   "source": [
    "# Example 3 - breaking (to illustrate when it breaks)\n",
    "arr2 = [[1.,2 ,3],\n",
    "        [5 ,6 ],\n",
    "        [9, 10, 11, 12 ]]\n",
    "ex3 = torch.tensor(arr2)\n",
    "ex3 "
   ]
  },
  {
   "cell_type": "markdown",
   "metadata": {
    "id": "4k4q_noNEKjy"
   },
   "source": [
    "In the given arr3, at dim 1 the length is 3, other dim is expected to be length 3, but found 2. Diminsion mis-match."
   ]
  },
  {
   "cell_type": "markdown",
   "metadata": {
    "id": "Ksc3zm0jEKjy"
   },
   "source": [
    "**Usage: to create a tensor from a matrix or numpy matrix.** "
   ]
  },
  {
   "cell_type": "markdown",
   "metadata": {
    "id": "LQmo-qYjEKjy"
   },
   "source": [
    "## Function 2 - view() \n",
    "\n",
    "PyTorch allows a tensor to be a view of an existing tensor. View tensor shares the same underlying data with its base tensor. Supporting view avoids explicit data copy, thus allows us to do fast and memory efficient reshaping, slicing and element-wise operations."
   ]
  },
  {
   "cell_type": "code",
   "execution_count": 6,
   "metadata": {
    "colab": {
     "base_uri": "https://localhost:8080/"
    },
    "executionInfo": {
     "elapsed": 1693,
     "status": "ok",
     "timestamp": 1606310593407,
     "user": {
      "displayName": "Rajib Bhagat",
      "photoUrl": "https://lh3.googleusercontent.com/a-/AOh14Gjk9xRqLB3KIz_Kf-zSFyEvP0rQ0KIWfvO-pWKXNQ=s64",
      "userId": "05375747577393173060"
     },
     "user_tz": -330
    },
    "id": "I2xHEkOKEKjy",
    "outputId": "55d73617-c37c-4bad-966a-802553afcc43"
   },
   "outputs": [
    {
     "data": {
      "text/plain": [
       "tensor([[ 1.,  2.],\n",
       "        [ 3.,  4.],\n",
       "        [ 5.,  6.],\n",
       "        [ 7.,  8.],\n",
       "        [ 9., 10.],\n",
       "        [11., 12.]], dtype=torch.float64)"
      ]
     },
     "execution_count": 6,
     "metadata": {
      "tags": []
     },
     "output_type": "execute_result"
    }
   ],
   "source": [
    "# Example 1 - working\n",
    "ex1.view(6,2)"
   ]
  },
  {
   "cell_type": "markdown",
   "metadata": {
    "id": "xjMS7lbIEKjy"
   },
   "source": [
    "Returns the reshaped tensor with 2-diminsion shape 6 x 2."
   ]
  },
  {
   "cell_type": "code",
   "execution_count": 7,
   "metadata": {
    "colab": {
     "base_uri": "https://localhost:8080/"
    },
    "executionInfo": {
     "elapsed": 890,
     "status": "ok",
     "timestamp": 1606310593894,
     "user": {
      "displayName": "Rajib Bhagat",
      "photoUrl": "https://lh3.googleusercontent.com/a-/AOh14Gjk9xRqLB3KIz_Kf-zSFyEvP0rQ0KIWfvO-pWKXNQ=s64",
      "userId": "05375747577393173060"
     },
     "user_tz": -330
    },
    "id": "Lb82zmHeEKjy",
    "outputId": "54dd13c2-9b64-406a-c156-007eadca1913"
   },
   "outputs": [
    {
     "data": {
      "text/plain": [
       "tensor([[[ 1.,  2.],\n",
       "         [ 3.,  4.],\n",
       "         [ 5.,  6.]],\n",
       "\n",
       "        [[ 7.,  8.],\n",
       "         [ 9., 10.],\n",
       "         [11., 12.]]], dtype=torch.float64)"
      ]
     },
     "execution_count": 7,
     "metadata": {
      "tags": []
     },
     "output_type": "execute_result"
    }
   ],
   "source": [
    "# Example 2 - working\n",
    "ex1.view(2,3,2)"
   ]
  },
  {
   "cell_type": "markdown",
   "metadata": {
    "id": "9vl5gTXKEKjy"
   },
   "source": [
    "Returns the reshaped tensor with 3-diminsion shape 2 x 3 x 2."
   ]
  },
  {
   "cell_type": "code",
   "execution_count": 8,
   "metadata": {
    "colab": {
     "base_uri": "https://localhost:8080/",
     "height": 180
    },
    "executionInfo": {
     "elapsed": 1182,
     "status": "error",
     "timestamp": 1606310597337,
     "user": {
      "displayName": "Rajib Bhagat",
      "photoUrl": "https://lh3.googleusercontent.com/a-/AOh14Gjk9xRqLB3KIz_Kf-zSFyEvP0rQ0KIWfvO-pWKXNQ=s64",
      "userId": "05375747577393173060"
     },
     "user_tz": -330
    },
    "id": "vypfwzvqEKjy",
    "outputId": "4ad9861a-df7d-4763-c2cb-e761ce01c31e"
   },
   "outputs": [
    {
     "ename": "TypeError",
     "evalue": "ignored",
     "output_type": "error",
     "traceback": [
      "\u001b[0;31m---------------------------------------------------------------------------\u001b[0m",
      "\u001b[0;31mTypeError\u001b[0m                                 Traceback (most recent call last)",
      "\u001b[0;32m<ipython-input-8-aed629ec6cf0>\u001b[0m in \u001b[0;36m<module>\u001b[0;34m()\u001b[0m\n\u001b[1;32m      1\u001b[0m \u001b[0;31m# Example 3 - breaking (to illustrate when it breaks)\u001b[0m\u001b[0;34m\u001b[0m\u001b[0;34m\u001b[0m\u001b[0;34m\u001b[0m\u001b[0m\n\u001b[0;32m----> 2\u001b[0;31m \u001b[0mex1\u001b[0m\u001b[0;34m.\u001b[0m\u001b[0mview\u001b[0m\u001b[0;34m(\u001b[0m\u001b[0;34m)\u001b[0m\u001b[0;34m\u001b[0m\u001b[0;34m\u001b[0m\u001b[0m\n\u001b[0m",
      "\u001b[0;31mTypeError\u001b[0m: view() missing 1 required positional arguments: \"size\""
     ]
    }
   ],
   "source": [
    "# Example 3 - breaking (to illustrate when it breaks)\n",
    "ex1.view()"
   ]
  },
  {
   "cell_type": "markdown",
   "metadata": {
    "id": "bKxYTi5ZEKjy"
   },
   "source": [
    "view() requires 1 positional arguments: \"size\". Such as for arr1 shape 4 X 3; all valid size are (12), (4,3), (2,2,3) etc. "
   ]
  },
  {
   "cell_type": "markdown",
   "metadata": {
    "id": "ULcHIh3DEKjy"
   },
   "source": [
    "**Usage: reshaping, slicing and element-wise operations.**"
   ]
  },
  {
   "cell_type": "markdown",
   "metadata": {
    "id": "aEl_XaQ3EKjz"
   },
   "source": [
    "## Function 3 - permute()\n",
    "\n",
    "Returns a view of the original tensor with its dimensions permuted."
   ]
  },
  {
   "cell_type": "code",
   "execution_count": null,
   "metadata": {
    "colab": {
     "base_uri": "https://localhost:8080/"
    },
    "executionInfo": {
     "elapsed": 1163,
     "status": "ok",
     "timestamp": 1606301357956,
     "user": {
      "displayName": "Rajib Bhagat",
      "photoUrl": "https://lh3.googleusercontent.com/a-/AOh14Gjk9xRqLB3KIz_Kf-zSFyEvP0rQ0KIWfvO-pWKXNQ=s64",
      "userId": "05375747577393173060"
     },
     "user_tz": -330
    },
    "id": "Mb8S7XmIEKjz",
    "outputId": "31b99ee3-58f2-4f91-b204-5e1eab7d0fdd"
   },
   "outputs": [
    {
     "data": {
      "text/plain": [
       "tensor([[ 1,  2,  3,  4,  5,  6],\n",
       "        [11, 12,  4,  5,  6, 13],\n",
       "        [21,  4,  5,  6, 22, 23],\n",
       "        [11, 12,  4,  5,  6, 13]])"
      ]
     },
     "execution_count": 11,
     "metadata": {
      "tags": []
     },
     "output_type": "execute_result"
    }
   ],
   "source": [
    "# Example 1 - working\n",
    "arr3=[[1,2,3,4,5,6],\n",
    "     [11,12,4,5,6,13],\n",
    "     [21,4,5,6,22,23],\n",
    "     [11,12,4,5,6,13]]\n",
    "arr4 = torch.tensor(arr3)     \n",
    "arr4.permute(-2,1)"
   ]
  },
  {
   "cell_type": "markdown",
   "metadata": {
    "id": "ZAXPyX6iEKjz"
   },
   "source": [
    "The positional argument in permute(-2,1), permute(0,1) shows the original array. "
   ]
  },
  {
   "cell_type": "code",
   "execution_count": null,
   "metadata": {
    "colab": {
     "base_uri": "https://localhost:8080/"
    },
    "executionInfo": {
     "elapsed": 1340,
     "status": "ok",
     "timestamp": 1606301360174,
     "user": {
      "displayName": "Rajib Bhagat",
      "photoUrl": "https://lh3.googleusercontent.com/a-/AOh14Gjk9xRqLB3KIz_Kf-zSFyEvP0rQ0KIWfvO-pWKXNQ=s64",
      "userId": "05375747577393173060"
     },
     "user_tz": -330
    },
    "id": "q0whuM_QEKjz",
    "outputId": "96a497a4-f9ae-488b-dd8d-2fbdd96aa20a"
   },
   "outputs": [
    {
     "data": {
      "text/plain": [
       "tensor([[ 1, 11, 21, 11],\n",
       "        [ 2, 12,  4, 12],\n",
       "        [ 3,  4,  5,  4],\n",
       "        [ 4,  5,  6,  5],\n",
       "        [ 5,  6, 22,  6],\n",
       "        [ 6, 13, 23, 13]])"
      ]
     },
     "execution_count": 12,
     "metadata": {
      "tags": []
     },
     "output_type": "execute_result"
    }
   ],
   "source": [
    "# Example 2 - working     \n",
    "arr5 = arr4.permute(1,0)\n",
    "arr5"
   ]
  },
  {
   "cell_type": "markdown",
   "metadata": {
    "id": "3mfUX7WfEKjz"
   },
   "source": [
    "The positional argument in permute(-1,0), permute(1,0) changes the shape of the array."
   ]
  },
  {
   "cell_type": "code",
   "execution_count": null,
   "metadata": {
    "colab": {
     "base_uri": "https://localhost:8080/",
     "height": 180
    },
    "executionInfo": {
     "elapsed": 1538,
     "status": "error",
     "timestamp": 1606301361755,
     "user": {
      "displayName": "Rajib Bhagat",
      "photoUrl": "https://lh3.googleusercontent.com/a-/AOh14Gjk9xRqLB3KIz_Kf-zSFyEvP0rQ0KIWfvO-pWKXNQ=s64",
      "userId": "05375747577393173060"
     },
     "user_tz": -330
    },
    "id": "RULpcgMCEKjz",
    "outputId": "1010768c-a0fa-4c1a-8fc0-bd2f6609a378"
   },
   "outputs": [
    {
     "ename": "TypeError",
     "evalue": "ignored",
     "output_type": "error",
     "traceback": [
      "\u001b[0;31m---------------------------------------------------------------------------\u001b[0m",
      "\u001b[0;31mTypeError\u001b[0m                                 Traceback (most recent call last)",
      "\u001b[0;32m<ipython-input-13-990a4837761c>\u001b[0m in \u001b[0;36m<module>\u001b[0;34m()\u001b[0m\n\u001b[1;32m      1\u001b[0m \u001b[0;31m# Example 3 - breaking (to illustrate when it breaks)\u001b[0m\u001b[0;34m\u001b[0m\u001b[0;34m\u001b[0m\u001b[0;34m\u001b[0m\u001b[0m\n\u001b[0;32m----> 2\u001b[0;31m \u001b[0marr5\u001b[0m\u001b[0;34m.\u001b[0m\u001b[0mpermute\u001b[0m\u001b[0;34m(\u001b[0m\u001b[0;34m)\u001b[0m\u001b[0;34m\u001b[0m\u001b[0;34m\u001b[0m\u001b[0m\n\u001b[0m",
      "\u001b[0;31mTypeError\u001b[0m: permute() missing 1 required positional arguments: \"dims\""
     ]
    }
   ],
   "source": [
    "# Example 3 - breaking (to illustrate when it breaks)\n",
    "arr5.permute()"
   ]
  },
  {
   "cell_type": "markdown",
   "metadata": {
    "id": "mMckBs4OEKjz"
   },
   "source": [
    "The function permute() requires 1 positional arguments: \"dims\". The dims must be in the range(-2,1)."
   ]
  },
  {
   "cell_type": "markdown",
   "metadata": {
    "id": "lYn4Y5nXEKjz"
   },
   "source": [
    "**Usage: to swap the axes or to transpose a matrix.** "
   ]
  },
  {
   "cell_type": "markdown",
   "metadata": {
    "id": "LCEKBVBsEKjz"
   },
   "source": [
    "## Function 4 - item()\n",
    "\n",
    "Returns a Python number from a tensor containing a single value.\n",
    "\n",
    "Add some explanations"
   ]
  },
  {
   "cell_type": "code",
   "execution_count": null,
   "metadata": {
    "colab": {
     "base_uri": "https://localhost:8080/"
    },
    "executionInfo": {
     "elapsed": 1137,
     "status": "ok",
     "timestamp": 1606301365014,
     "user": {
      "displayName": "Rajib Bhagat",
      "photoUrl": "https://lh3.googleusercontent.com/a-/AOh14Gjk9xRqLB3KIz_Kf-zSFyEvP0rQ0KIWfvO-pWKXNQ=s64",
      "userId": "05375747577393173060"
     },
     "user_tz": -330
    },
    "id": "Db0wdnuiEKjz",
    "outputId": "6a557437-3cb3-40f2-e7ab-3d19e033689f"
   },
   "outputs": [
    {
     "data": {
      "text/plain": [
       "1"
      ]
     },
     "execution_count": 14,
     "metadata": {
      "tags": []
     },
     "output_type": "execute_result"
    }
   ],
   "source": [
    "# Example 1 - working\n",
    "arr5[0][0].item()"
   ]
  },
  {
   "cell_type": "markdown",
   "metadata": {
    "id": "RpoGhihcEKjz"
   },
   "source": [
    "Explanation about example"
   ]
  },
  {
   "cell_type": "code",
   "execution_count": null,
   "metadata": {
    "colab": {
     "base_uri": "https://localhost:8080/"
    },
    "executionInfo": {
     "elapsed": 1104,
     "status": "ok",
     "timestamp": 1606301368182,
     "user": {
      "displayName": "Rajib Bhagat",
      "photoUrl": "https://lh3.googleusercontent.com/a-/AOh14Gjk9xRqLB3KIz_Kf-zSFyEvP0rQ0KIWfvO-pWKXNQ=s64",
      "userId": "05375747577393173060"
     },
     "user_tz": -330
    },
    "id": "B7M6UGRYEKjz",
    "outputId": "ca5be010-92cb-4406-ce80-07b1731135ed"
   },
   "outputs": [
    {
     "data": {
      "text/plain": [
       "1"
      ]
     },
     "execution_count": 15,
     "metadata": {
      "tags": []
     },
     "output_type": "execute_result"
    }
   ],
   "source": [
    "# Example 2 - working\n",
    "c = torch.tensor([1, 2, 3, 4])\n",
    "c[0].item()"
   ]
  },
  {
   "cell_type": "markdown",
   "metadata": {
    "id": "MNnq_UXQEKjz"
   },
   "source": [
    "Explanation about example"
   ]
  },
  {
   "cell_type": "code",
   "execution_count": null,
   "metadata": {
    "colab": {
     "base_uri": "https://localhost:8080/",
     "height": 180
    },
    "executionInfo": {
     "elapsed": 1141,
     "status": "error",
     "timestamp": 1606301370733,
     "user": {
      "displayName": "Rajib Bhagat",
      "photoUrl": "https://lh3.googleusercontent.com/a-/AOh14Gjk9xRqLB3KIz_Kf-zSFyEvP0rQ0KIWfvO-pWKXNQ=s64",
      "userId": "05375747577393173060"
     },
     "user_tz": -330
    },
    "id": "r744Mb8TEKjz",
    "outputId": "3bf7e1b7-f00f-426c-ee85-a25559c96184"
   },
   "outputs": [
    {
     "ename": "ValueError",
     "evalue": "ignored",
     "output_type": "error",
     "traceback": [
      "\u001b[0;31m---------------------------------------------------------------------------\u001b[0m",
      "\u001b[0;31mValueError\u001b[0m                                Traceback (most recent call last)",
      "\u001b[0;32m<ipython-input-16-16e9d48edfc4>\u001b[0m in \u001b[0;36m<module>\u001b[0;34m()\u001b[0m\n\u001b[1;32m      1\u001b[0m \u001b[0;31m# Example 3 - breaking (to illustrate when it breaks)\u001b[0m\u001b[0;34m\u001b[0m\u001b[0;34m\u001b[0m\u001b[0;34m\u001b[0m\u001b[0m\n\u001b[0;32m----> 2\u001b[0;31m \u001b[0mc\u001b[0m\u001b[0;34m.\u001b[0m\u001b[0mitem\u001b[0m\u001b[0;34m(\u001b[0m\u001b[0;34m)\u001b[0m\u001b[0;34m\u001b[0m\u001b[0;34m\u001b[0m\u001b[0m\n\u001b[0m",
      "\u001b[0;31mValueError\u001b[0m: only one element tensors can be converted to Python scalars"
     ]
    }
   ],
   "source": [
    "# Example 3 - breaking (to illustrate when it breaks)\n",
    "c.item()"
   ]
  },
  {
   "cell_type": "markdown",
   "metadata": {
    "id": "OI2EzM7NEKjz"
   },
   "source": [
    "Only one element tensors can be converted to Python scalars."
   ]
  },
  {
   "cell_type": "markdown",
   "metadata": {
    "id": "CW5hryTVEKjz"
   },
   "source": [
    "**Usage: to fetch only one required item from the tensors.** "
   ]
  },
  {
   "cell_type": "markdown",
   "metadata": {
    "id": "mBVQApWQEKjz"
   },
   "source": [
    "## Function 5 - flatten()\n",
    "\n",
    "Flattens a contiguous range of diminesions in a tensor similar to 1-d array."
   ]
  },
  {
   "cell_type": "code",
   "execution_count": null,
   "metadata": {
    "colab": {
     "base_uri": "https://localhost:8080/"
    },
    "executionInfo": {
     "elapsed": 1106,
     "status": "ok",
     "timestamp": 1606301376308,
     "user": {
      "displayName": "Rajib Bhagat",
      "photoUrl": "https://lh3.googleusercontent.com/a-/AOh14Gjk9xRqLB3KIz_Kf-zSFyEvP0rQ0KIWfvO-pWKXNQ=s64",
      "userId": "05375747577393173060"
     },
     "user_tz": -330
    },
    "id": "uwOTmwR9EKjz",
    "outputId": "291e1629-e4a8-465a-9ef6-feaf85f3eab7"
   },
   "outputs": [
    {
     "name": "stdout",
     "output_type": "stream",
     "text": [
      "tensor([[ 1, 11, 21, 11],\n",
      "        [ 2, 12,  4, 12],\n",
      "        [ 3,  4,  5,  4],\n",
      "        [ 4,  5,  6,  5],\n",
      "        [ 5,  6, 22,  6],\n",
      "        [ 6, 13, 23, 13]])\n"
     ]
    },
    {
     "data": {
      "text/plain": [
       "tensor([ 1, 11, 21, 11,  2, 12,  4, 12,  3,  4,  5,  4,  4,  5,  6,  5,  5,  6,\n",
       "        22,  6,  6, 13, 23, 13])"
      ]
     },
     "execution_count": 17,
     "metadata": {
      "tags": []
     },
     "output_type": "execute_result"
    }
   ],
   "source": [
    "# Example 1 - working\n",
    "print(arr5)\n",
    "torch.flatten(arr5)"
   ]
  },
  {
   "cell_type": "markdown",
   "metadata": {
    "id": "nmEC0KP9EKjz"
   },
   "source": [
    "Removes all of the dimensions except for one."
   ]
  },
  {
   "cell_type": "code",
   "execution_count": null,
   "metadata": {
    "colab": {
     "base_uri": "https://localhost:8080/"
    },
    "executionInfo": {
     "elapsed": 1174,
     "status": "ok",
     "timestamp": 1606301378374,
     "user": {
      "displayName": "Rajib Bhagat",
      "photoUrl": "https://lh3.googleusercontent.com/a-/AOh14Gjk9xRqLB3KIz_Kf-zSFyEvP0rQ0KIWfvO-pWKXNQ=s64",
      "userId": "05375747577393173060"
     },
     "user_tz": -330
    },
    "id": "-sYZjaBYEKjz",
    "outputId": "96bf7dd0-deda-45cf-f8ee-2bc15d9bf089"
   },
   "outputs": [
    {
     "name": "stdout",
     "output_type": "stream",
     "text": [
      "tensor([[ 1.,  2.,  3.,  4.],\n",
      "        [ 5.,  6.,  7.,  8.],\n",
      "        [ 9., 10., 11., 12.]], dtype=torch.float64)\n"
     ]
    },
    {
     "data": {
      "text/plain": [
       "tensor([ 1.,  2.,  3.,  4.,  5.,  6.,  7.,  8.,  9., 10., 11., 12.],\n",
       "       dtype=torch.float64)"
      ]
     },
     "execution_count": 18,
     "metadata": {
      "tags": []
     },
     "output_type": "execute_result"
    }
   ],
   "source": [
    "# Example 2 - working\n",
    "print(ex1)\n",
    "torch.flatten(ex1)"
   ]
  },
  {
   "cell_type": "markdown",
   "metadata": {
    "id": "KR9GdHjHEKjz"
   },
   "source": [
    "Removes all of the dimensions except for one."
   ]
  },
  {
   "cell_type": "code",
   "execution_count": null,
   "metadata": {
    "colab": {
     "base_uri": "https://localhost:8080/",
     "height": 214
    },
    "executionInfo": {
     "elapsed": 884,
     "status": "error",
     "timestamp": 1606301380589,
     "user": {
      "displayName": "Rajib Bhagat",
      "photoUrl": "https://lh3.googleusercontent.com/a-/AOh14Gjk9xRqLB3KIz_Kf-zSFyEvP0rQ0KIWfvO-pWKXNQ=s64",
      "userId": "05375747577393173060"
     },
     "user_tz": -330
    },
    "id": "BultmkfQEKjz",
    "outputId": "02d61c5e-7008-41ce-d3f5-f579b69d0bba"
   },
   "outputs": [
    {
     "name": "stdout",
     "output_type": "stream",
     "text": [
      "[[1.0, 2, 3, 4], [5, 6, 7, 8], [9, 10, 11, 12]]\n"
     ]
    },
    {
     "ename": "TypeError",
     "evalue": "ignored",
     "output_type": "error",
     "traceback": [
      "\u001b[0;31m---------------------------------------------------------------------------\u001b[0m",
      "\u001b[0;31mTypeError\u001b[0m                                 Traceback (most recent call last)",
      "\u001b[0;32m<ipython-input-19-43120fabf7f4>\u001b[0m in \u001b[0;36m<module>\u001b[0;34m()\u001b[0m\n\u001b[1;32m      1\u001b[0m \u001b[0;31m# Example 3 - breaking (to illustrate when it breaks)\u001b[0m\u001b[0;34m\u001b[0m\u001b[0;34m\u001b[0m\u001b[0;34m\u001b[0m\u001b[0m\n\u001b[1;32m      2\u001b[0m \u001b[0mprint\u001b[0m\u001b[0;34m(\u001b[0m\u001b[0marr1\u001b[0m\u001b[0;34m)\u001b[0m\u001b[0;34m\u001b[0m\u001b[0;34m\u001b[0m\u001b[0m\n\u001b[0;32m----> 3\u001b[0;31m \u001b[0mtorch\u001b[0m\u001b[0;34m.\u001b[0m\u001b[0mflatten\u001b[0m\u001b[0;34m(\u001b[0m\u001b[0marr1\u001b[0m\u001b[0;34m)\u001b[0m\u001b[0;34m\u001b[0m\u001b[0;34m\u001b[0m\u001b[0m\n\u001b[0m",
      "\u001b[0;31mTypeError\u001b[0m: flatten(): argument 'input' (position 1) must be Tensor, not list"
     ]
    }
   ],
   "source": [
    "# Example 3 - breaking (to illustrate when it breaks)\n",
    "print(arr1)\n",
    "torch.flatten(arr1)"
   ]
  },
  {
   "cell_type": "markdown",
   "metadata": {
    "id": "2IgoA_54EKjz"
   },
   "source": [
    "flatten() argument requires 'input' (position 1) as Tensor, not list."
   ]
  },
  {
   "cell_type": "markdown",
   "metadata": {
    "id": "eOMOGgrVEKjz"
   },
   "source": [
    "**Usage: A flatten operation on a tensor reshapes the tensor to have a shape that is equal to the number of elements contained in the tensor. This is the same thing as a 1d-array of elements.** "
   ]
  },
  {
   "cell_type": "markdown",
   "metadata": {
    "id": "XWB09JnsEKjz"
   },
   "source": [
    "## Conclusion\n",
    "\n",
    "From this notebook, one is able to understand what tensor is and what is the difference between the usage of numpy and tensor. \n",
    "\n",
    "The functions with examples as elastrated above shows the usage and the necessarity when as required."
   ]
  },
  {
   "cell_type": "markdown",
   "metadata": {
    "id": "xS4cVhOuEKjz"
   },
   "source": [
    "## Reference Links\n",
    "Provide links to your references and other interesting articles about tensors\n",
    "* Official documentation for tensor operations: https://pytorch.org/docs/stable/torch.html\n",
    "* Stack Overflow: https://stackoverflow.com/\n",
    "* Deeplizard: https://deeplizard.com/ "
   ]
  },
  {
   "cell_type": "code",
   "execution_count": null,
   "metadata": {
    "colab": {
     "base_uri": "https://localhost:8080/"
    },
    "id": "8iSpRJGPEKjz",
    "outputId": "614688d4-05b6-409b-89a6-609af11b6018"
   },
   "outputs": [
    {
     "name": "stdout",
     "output_type": "stream",
     "text": [
      "[jovian] Detected Colab notebook...\u001b[0m\n",
      "[jovian] Please enter your API key ( from https://jovian.ai/ ):\u001b[0m\n",
      "API KEY: "
     ]
    }
   ],
   "source": [
    "jovian.commit(project='01-tensor-operations')"
   ]
  },
  {
   "cell_type": "code",
   "execution_count": null,
   "metadata": {
    "id": "vg99zAtWEKjz"
   },
   "outputs": [],
   "source": []
  }
 ],
 "metadata": {
  "colab": {
   "collapsed_sections": [],
   "name": "01-tensor-operations.ipynb",
   "provenance": []
  },
  "kernelspec": {
   "display_name": "Python 3",
   "language": "python",
   "name": "python3"
  },
  "language_info": {
   "codemirror_mode": {
    "name": "ipython",
    "version": 3
   },
   "file_extension": ".py",
   "mimetype": "text/x-python",
   "name": "python",
   "nbconvert_exporter": "python",
   "pygments_lexer": "ipython3",
   "version": "3.7.3"
  }
 },
 "nbformat": 4,
 "nbformat_minor": 0
}